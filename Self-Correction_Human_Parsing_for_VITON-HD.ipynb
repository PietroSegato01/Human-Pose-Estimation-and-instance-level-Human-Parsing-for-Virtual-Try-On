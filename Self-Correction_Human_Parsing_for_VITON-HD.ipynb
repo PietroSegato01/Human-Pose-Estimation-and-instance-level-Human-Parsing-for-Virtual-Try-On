{
  "cells": [
    {
      "cell_type": "markdown",
      "metadata": {
        "id": "HFCKrDEwIaeb"
      },
      "source": [
        "# Self-Correction Human Parsing\n",
        "\n",
        "**Notebook Authors:** \n",
        "- **Segato Pietro** (2122209)  \n",
        "- **Vezzosi Giacomo** (2104369)  \n",
        "- **Vitali Giovanni** (2119998)\n",
        "\n",
        "This notebook implements **Self-Correction Human Parsing (SCHP)** for clothing segmentation, which is crucial for virtual try-on applications such as VITON-HD. The SCHP model refines human parsing predictions iteratively, enhancing segmentation accuracy. The code is based on the repository by Peike Li ([Self-Correction-Human-Parsing](https://github.com/PeikeLi/Self-Correction-Human-Parsing)).\n",
        "\n",
        "## Execution Environment  \n",
        "This notebook is designed to be executed on **Google Colab** to ensure compatibility with the necessary dependencies and GPU acceleration. Before running the code, ensure that the runtime environment is set to **GPU** (Runtime → Change runtime type → GPU)."
      ]
    },
    {
      "cell_type": "code",
      "execution_count": 1,
      "metadata": {
        "id": "t7Y523_mIaed"
      },
      "outputs": [],
      "source": [
        "import os\n",
        "import sys\n",
        "from google.colab import files\n",
        "import zipfile\n",
        "import shutil\n",
        "import gdown\n",
        "import cv2\n",
        "import numpy as np\n",
        "from PIL import Image"
      ]
    },
    {
      "cell_type": "markdown",
      "metadata": {
        "id": "Z7bCNaItIaed"
      },
      "source": [
        "# Repository and dependencies"
      ]
    },
    {
      "cell_type": "code",
      "execution_count": 2,
      "metadata": {
        "colab": {
          "base_uri": "https://localhost:8080/"
        },
        "id": "kLvuXDIpIaed",
        "outputId": "530cf9e9-c4eb-4816-ed1d-2283e2a2ae79"
      },
      "outputs": [
        {
          "name": "stdout",
          "output_type": "stream",
          "text": [
            "Collecting ninja\n",
            "  Downloading ninja-1.11.1.3-py3-none-manylinux_2_12_x86_64.manylinux2010_x86_64.whl.metadata (5.3 kB)\n",
            "Downloading ninja-1.11.1.3-py3-none-manylinux_2_12_x86_64.manylinux2010_x86_64.whl (422 kB)\n",
            "\u001b[?25l   \u001b[90m━━━━━━━━━━━━━━━━━━━━━━━━━━━━━━━━━━━━━━━━\u001b[0m \u001b[32m0.0/422.9 kB\u001b[0m \u001b[31m?\u001b[0m eta \u001b[36m-:--:--\u001b[0m\r\u001b[2K   \u001b[90m━━━━━━━━━━━━━━━━━━━━━━━━━━━━━━━━━━━━━━━━\u001b[0m \u001b[32m422.9/422.9 kB\u001b[0m \u001b[31m13.7 MB/s\u001b[0m eta \u001b[36m0:00:00\u001b[0m\n",
            "\u001b[?25hInstalling collected packages: ninja\n",
            "Successfully installed ninja-1.11.1.3\n"
          ]
        }
      ],
      "source": [
        "!pip install ninja"
      ]
    },
    {
      "cell_type": "code",
      "execution_count": 3,
      "metadata": {
        "colab": {
          "base_uri": "https://localhost:8080/"
        },
        "id": "wLQgK9HUIaee",
        "outputId": "e2f829b9-3a50-4661-c956-c0705fc28682"
      },
      "outputs": [
        {
          "name": "stdout",
          "output_type": "stream",
          "text": [
            "Cloning into 'Self-Correction-Human-Parsing'...\n",
            "remote: Enumerating objects: 722, done.\u001b[K\n",
            "remote: Counting objects: 100% (175/175), done.\u001b[K\n",
            "remote: Compressing objects: 100% (110/110), done.\u001b[K\n",
            "remote: Total 722 (delta 74), reused 64 (delta 64), pack-reused 547 (from 1)\u001b[K\n",
            "Receiving objects: 100% (722/722), 3.88 MiB | 8.23 MiB/s, done.\n",
            "Resolving deltas: 100% (150/150), done.\n",
            "/content/Self-Correction-Human-Parsing\n"
          ]
        }
      ],
      "source": [
        "!git clone https://github.com/PeikeLi/Self-Correction-Human-Parsing\n",
        "%cd Self-Correction-Human-Parsing\n",
        "!mkdir checkpoints\n",
        "!mkdir inputs\n",
        "!mkdir outputs"
      ]
    },
    {
      "cell_type": "code",
      "execution_count": 4,
      "metadata": {
        "colab": {
          "base_uri": "https://localhost:8080/",
          "height": 126
        },
        "id": "UHUx6rfnIaee",
        "outputId": "53bd971e-a7b1-43e9-bf51-33e59b3320e8"
      },
      "outputs": [
        {
          "name": "stderr",
          "output_type": "stream",
          "text": [
            "Downloading...\n",
            "From (original): https://drive.google.com/uc?id=1ruJg4lqR_jgQPj-9K0PP-L2vJERYOxLP\n",
            "From (redirected): https://drive.google.com/uc?id=1ruJg4lqR_jgQPj-9K0PP-L2vJERYOxLP&confirm=t&uuid=cb7ceebb-4d30-48e1-a4cf-4ec94500d437\n",
            "To: /content/Self-Correction-Human-Parsing/checkpoints/final.pth\n",
            "100%|██████████| 267M/267M [00:05<00:00, 48.3MB/s]\n"
          ]
        },
        {
          "data": {
            "application/vnd.google.colaboratory.intrinsic+json": {
              "type": "string"
            },
            "text/plain": [
              "'checkpoints/final.pth'"
            ]
          },
          "execution_count": 4,
          "metadata": {},
          "output_type": "execute_result"
        }
      ],
      "source": [
        "dataset = 'atr'\n",
        "\n",
        "if dataset == 'lip':\n",
        "    url = 'https://drive.google.com/uc?id=1k4dllHpu0bdx38J7H28rVVLpU-kOHmnH'\n",
        "elif dataset == 'atr':\n",
        "    url = 'https://drive.google.com/uc?id=1ruJg4lqR_jgQPj-9K0PP-L2vJERYOxLP'\n",
        "elif dataset == 'pascal':\n",
        "    url = 'https://drive.google.com/uc?id=1E5YwNKW2VOEayK9mWCS3Kpsxf-3z04ZE'\n",
        "\n",
        "output = 'checkpoints/final.pth'\n",
        "gdown.download(url, output, quiet=False)"
      ]
    },
    {
      "cell_type": "markdown",
      "metadata": {
        "id": "34Mc8noFIaee"
      },
      "source": [
        "# Dataset"
      ]
    },
    {
      "cell_type": "code",
      "execution_count": null,
      "metadata": {
        "colab": {
          "base_uri": "https://localhost:8080/",
          "height": 163
        },
        "id": "MjjXh4QQIaee",
        "outputId": "ec8d71d8-54bf-4cf9-eb50-11389508c836"
      },
      "outputs": [
        {
          "data": {
            "text/html": [
              "\n",
              "     <input type=\"file\" id=\"files-6985dcc3-06d6-4613-b670-5415bfe239c4\" name=\"files[]\" multiple disabled\n",
              "        style=\"border:none\" />\n",
              "     <output id=\"result-6985dcc3-06d6-4613-b670-5415bfe239c4\">\n",
              "      Upload widget is only available when the cell has been executed in the\n",
              "      current browser session. Please rerun this cell to enable.\n",
              "      </output>\n",
              "      <script>// Copyright 2017 Google LLC\n",
              "//\n",
              "// Licensed under the Apache License, Version 2.0 (the \"License\");\n",
              "// you may not use this file except in compliance with the License.\n",
              "// You may obtain a copy of the License at\n",
              "//\n",
              "//      http://www.apache.org/licenses/LICENSE-2.0\n",
              "//\n",
              "// Unless required by applicable law or agreed to in writing, software\n",
              "// distributed under the License is distributed on an \"AS IS\" BASIS,\n",
              "// WITHOUT WARRANTIES OR CONDITIONS OF ANY KIND, either express or implied.\n",
              "// See the License for the specific language governing permissions and\n",
              "// limitations under the License.\n",
              "\n",
              "/**\n",
              " * @fileoverview Helpers for google.colab Python module.\n",
              " */\n",
              "(function(scope) {\n",
              "function span(text, styleAttributes = {}) {\n",
              "  const element = document.createElement('span');\n",
              "  element.textContent = text;\n",
              "  for (const key of Object.keys(styleAttributes)) {\n",
              "    element.style[key] = styleAttributes[key];\n",
              "  }\n",
              "  return element;\n",
              "}\n",
              "\n",
              "// Max number of bytes which will be uploaded at a time.\n",
              "const MAX_PAYLOAD_SIZE = 100 * 1024;\n",
              "\n",
              "function _uploadFiles(inputId, outputId) {\n",
              "  const steps = uploadFilesStep(inputId, outputId);\n",
              "  const outputElement = document.getElementById(outputId);\n",
              "  // Cache steps on the outputElement to make it available for the next call\n",
              "  // to uploadFilesContinue from Python.\n",
              "  outputElement.steps = steps;\n",
              "\n",
              "  return _uploadFilesContinue(outputId);\n",
              "}\n",
              "\n",
              "// This is roughly an async generator (not supported in the browser yet),\n",
              "// where there are multiple asynchronous steps and the Python side is going\n",
              "// to poll for completion of each step.\n",
              "// This uses a Promise to block the python side on completion of each step,\n",
              "// then passes the result of the previous step as the input to the next step.\n",
              "function _uploadFilesContinue(outputId) {\n",
              "  const outputElement = document.getElementById(outputId);\n",
              "  const steps = outputElement.steps;\n",
              "\n",
              "  const next = steps.next(outputElement.lastPromiseValue);\n",
              "  return Promise.resolve(next.value.promise).then((value) => {\n",
              "    // Cache the last promise value to make it available to the next\n",
              "    // step of the generator.\n",
              "    outputElement.lastPromiseValue = value;\n",
              "    return next.value.response;\n",
              "  });\n",
              "}\n",
              "\n",
              "/**\n",
              " * Generator function which is called between each async step of the upload\n",
              " * process.\n",
              " * @param {string} inputId Element ID of the input file picker element.\n",
              " * @param {string} outputId Element ID of the output display.\n",
              " * @return {!Iterable<!Object>} Iterable of next steps.\n",
              " */\n",
              "function* uploadFilesStep(inputId, outputId) {\n",
              "  const inputElement = document.getElementById(inputId);\n",
              "  inputElement.disabled = false;\n",
              "\n",
              "  const outputElement = document.getElementById(outputId);\n",
              "  outputElement.innerHTML = '';\n",
              "\n",
              "  const pickedPromise = new Promise((resolve) => {\n",
              "    inputElement.addEventListener('change', (e) => {\n",
              "      resolve(e.target.files);\n",
              "    });\n",
              "  });\n",
              "\n",
              "  const cancel = document.createElement('button');\n",
              "  inputElement.parentElement.appendChild(cancel);\n",
              "  cancel.textContent = 'Cancel upload';\n",
              "  const cancelPromise = new Promise((resolve) => {\n",
              "    cancel.onclick = () => {\n",
              "      resolve(null);\n",
              "    };\n",
              "  });\n",
              "\n",
              "  // Wait for the user to pick the files.\n",
              "  const files = yield {\n",
              "    promise: Promise.race([pickedPromise, cancelPromise]),\n",
              "    response: {\n",
              "      action: 'starting',\n",
              "    }\n",
              "  };\n",
              "\n",
              "  cancel.remove();\n",
              "\n",
              "  // Disable the input element since further picks are not allowed.\n",
              "  inputElement.disabled = true;\n",
              "\n",
              "  if (!files) {\n",
              "    return {\n",
              "      response: {\n",
              "        action: 'complete',\n",
              "      }\n",
              "    };\n",
              "  }\n",
              "\n",
              "  for (const file of files) {\n",
              "    const li = document.createElement('li');\n",
              "    li.append(span(file.name, {fontWeight: 'bold'}));\n",
              "    li.append(span(\n",
              "        `(${file.type || 'n/a'}) - ${file.size} bytes, ` +\n",
              "        `last modified: ${\n",
              "            file.lastModifiedDate ? file.lastModifiedDate.toLocaleDateString() :\n",
              "                                    'n/a'} - `));\n",
              "    const percent = span('0% done');\n",
              "    li.appendChild(percent);\n",
              "\n",
              "    outputElement.appendChild(li);\n",
              "\n",
              "    const fileDataPromise = new Promise((resolve) => {\n",
              "      const reader = new FileReader();\n",
              "      reader.onload = (e) => {\n",
              "        resolve(e.target.result);\n",
              "      };\n",
              "      reader.readAsArrayBuffer(file);\n",
              "    });\n",
              "    // Wait for the data to be ready.\n",
              "    let fileData = yield {\n",
              "      promise: fileDataPromise,\n",
              "      response: {\n",
              "        action: 'continue',\n",
              "      }\n",
              "    };\n",
              "\n",
              "    // Use a chunked sending to avoid message size limits. See b/62115660.\n",
              "    let position = 0;\n",
              "    do {\n",
              "      const length = Math.min(fileData.byteLength - position, MAX_PAYLOAD_SIZE);\n",
              "      const chunk = new Uint8Array(fileData, position, length);\n",
              "      position += length;\n",
              "\n",
              "      const base64 = btoa(String.fromCharCode.apply(null, chunk));\n",
              "      yield {\n",
              "        response: {\n",
              "          action: 'append',\n",
              "          file: file.name,\n",
              "          data: base64,\n",
              "        },\n",
              "      };\n",
              "\n",
              "      let percentDone = fileData.byteLength === 0 ?\n",
              "          100 :\n",
              "          Math.round((position / fileData.byteLength) * 100);\n",
              "      percent.textContent = `${percentDone}% done`;\n",
              "\n",
              "    } while (position < fileData.byteLength);\n",
              "  }\n",
              "\n",
              "  // All done.\n",
              "  yield {\n",
              "    response: {\n",
              "      action: 'complete',\n",
              "    }\n",
              "  };\n",
              "}\n",
              "\n",
              "scope.google = scope.google || {};\n",
              "scope.google.colab = scope.google.colab || {};\n",
              "scope.google.colab._files = {\n",
              "  _uploadFiles,\n",
              "  _uploadFilesContinue,\n",
              "};\n",
              "})(self);\n",
              "</script> "
            ],
            "text/plain": [
              "<IPython.core.display.HTML object>"
            ]
          },
          "metadata": {},
          "output_type": "display_data"
        },
        {
          "name": "stdout",
          "output_type": "stream",
          "text": [
            "Saving kaggle.json to kaggle.json\n",
            "Dataset URL: https://www.kaggle.com/datasets/tinkukalluri/zalando-hd-resized\n",
            "License(s): MIT\n",
            "Downloading zalando-hd-resized.zip to /content/Self-Correction-Human-Parsing\n",
            "100% 4.54G/4.54G [02:04<00:00, 43.0MB/s]\n",
            "100% 4.54G/4.54G [02:04<00:00, 39.0MB/s]\n"
          ]
        }
      ],
      "source": [
        "files.upload() #NOTE: a personal Kaggle API Key is to be uploaded here\n",
        "\n",
        "!pip install -q kaggle\n",
        "!mkdir -p ~/.kaggle\n",
        "!cp kaggle.json ~/.kaggle/\n",
        "!chmod 600 ~/.kaggle/kaggle.json\n",
        "\n",
        "!kaggle datasets download -d tinkukalluri/zalando-hd-resized"
      ]
    },
    {
      "cell_type": "code",
      "execution_count": 6,
      "metadata": {
        "colab": {
          "base_uri": "https://localhost:8080/"
        },
        "id": "UFZBNQv9Iaee",
        "outputId": "4bafc225-21e3-43ce-c528-7fd2f34daf57"
      },
      "outputs": [
        {
          "name": "stdout",
          "output_type": "stream",
          "text": [
            "Images ok\n",
            "Seg imgs ok\n"
          ]
        }
      ],
      "source": [
        "# Paths\n",
        "zip_path = '/content/Self-Correction-Human-Parsing/zalando-hd-resized.zip'\n",
        "images_dest = '/content/Self-Correction-Human-Parsing/datasets/VITONHD/image'\n",
        "seg_dest = '/content/Self-Correction-Human-Parsing/datasets/VITONHD/image-parse-v3'\n",
        "\n",
        "os.makedirs(images_dest, exist_ok=True)\n",
        "os.makedirs(seg_dest, exist_ok=True)\n",
        "\n",
        "# Open zip file\n",
        "with zipfile.ZipFile(zip_path, 'r') as zip_ref:\n",
        "    for file in zip_ref.namelist():\n",
        "        # Getting images\n",
        "        if file.startswith('test/image/') and (file.endswith('.jpg') or file.endswith('.png')):\n",
        "            dest_file = os.path.join(images_dest, os.path.basename(file))\n",
        "            with zip_ref.open(file) as source, open(dest_file, 'wb') as target:\n",
        "                shutil.copyfileobj(source, target)\n",
        "\n",
        "        # getting original segmentation image files\n",
        "        elif file.startswith('test/image-parse-v3/') and (file.endswith('.jpg') or file.endswith('.png')):\n",
        "            dest_file = os.path.join(seg_dest, os.path.basename(file))\n",
        "            with zip_ref.open(file) as source, open(dest_file, 'wb') as target:\n",
        "                shutil.copyfileobj(source, target)\n",
        "\n",
        "print(\"Images ok\")\n",
        "print(\"Seg imgs ok\")"
      ]
    },
    {
      "cell_type": "code",
      "execution_count": 7,
      "metadata": {
        "id": "G2-gabheIaee"
      },
      "outputs": [],
      "source": [
        "def copy_subset_images(image_dir, parse_dir, indices): # function to create a custom subset of images and parsing maps to process\n",
        "\n",
        "    # first we create the custom folders _test\n",
        "    image_test_dir = image_dir + \"_test\"\n",
        "    parse_test_dir = parse_dir + \"_test\"\n",
        "    os.makedirs(image_test_dir, exist_ok=True)\n",
        "    os.makedirs(parse_test_dir, exist_ok=True)\n",
        "\n",
        "    image_files = sorted(os.listdir(image_dir))\n",
        "    parse_files = sorted(os.listdir(parse_dir))\n",
        "\n",
        "    for idx in indices:\n",
        "        if idx < len(image_files) and idx < len(parse_files):\n",
        "            shutil.copy(os.path.join(image_dir, image_files[idx]), image_test_dir)\n",
        "            shutil.copy(os.path.join(parse_dir, parse_files[idx]), parse_test_dir)\n",
        "            print(f\"Copied: {image_files[idx]} e {parse_files[idx]}\")\n",
        "        else:\n",
        "            print(f\"Index {idx} out of range\")"
      ]
    },
    {
      "cell_type": "code",
      "execution_count": 8,
      "metadata": {
        "colab": {
          "base_uri": "https://localhost:8080/"
        },
        "id": "5VuzebrsIaef",
        "outputId": "5f2b1e68-ad5d-43f7-e406-534b36877d6a"
      },
      "outputs": [
        {
          "name": "stdout",
          "output_type": "stream",
          "text": [
            "Copied: 00006_00.jpg e 00006_00.png\n",
            "Copied: 00008_00.jpg e 00008_00.png\n",
            "Copied: 00013_00.jpg e 00013_00.png\n",
            "Copied: 00017_00.jpg e 00017_00.png\n",
            "Copied: 00034_00.jpg e 00034_00.png\n",
            "Copied: 00035_00.jpg e 00035_00.png\n",
            "Copied: 00055_00.jpg e 00055_00.png\n",
            "Copied: 00057_00.jpg e 00057_00.png\n",
            "Copied: 00064_00.jpg e 00064_00.png\n",
            "Copied: 00067_00.jpg e 00067_00.png\n",
            "Copied: 00069_00.jpg e 00069_00.png\n",
            "Copied: 00071_00.jpg e 00071_00.png\n",
            "Copied: 00074_00.jpg e 00074_00.png\n",
            "Copied: 00075_00.jpg e 00075_00.png\n",
            "Copied: 00084_00.jpg e 00084_00.png\n",
            "Copied: 00094_00.jpg e 00094_00.png\n",
            "Copied: 00095_00.jpg e 00095_00.png\n",
            "Copied: 00096_00.jpg e 00096_00.png\n",
            "Copied: 00110_00.jpg e 00110_00.png\n",
            "Copied: 00112_00.jpg e 00112_00.png\n",
            "Copied: 00121_00.jpg e 00121_00.png\n",
            "Copied: 00126_00.jpg e 00126_00.png\n",
            "Copied: 00127_00.jpg e 00127_00.png\n",
            "Copied: 00135_00.jpg e 00135_00.png\n",
            "Copied: 00145_00.jpg e 00145_00.png\n",
            "Copied: 00151_00.jpg e 00151_00.png\n",
            "Copied: 00158_00.jpg e 00158_00.png\n",
            "Copied: 00176_00.jpg e 00176_00.png\n",
            "Copied: 00190_00.jpg e 00190_00.png\n",
            "Copied: 00205_00.jpg e 00205_00.png\n",
            "Copied: 00249_00.jpg e 00249_00.png\n",
            "Copied: 00254_00.jpg e 00254_00.png\n",
            "Copied: 00259_00.jpg e 00259_00.png\n",
            "Copied: 00260_00.jpg e 00260_00.png\n",
            "Copied: 00261_00.jpg e 00261_00.png\n",
            "Copied: 00272_00.jpg e 00272_00.png\n",
            "Copied: 00273_00.jpg e 00273_00.png\n",
            "Copied: 00278_00.jpg e 00278_00.png\n",
            "Copied: 00286_00.jpg e 00286_00.png\n",
            "Copied: 00287_00.jpg e 00287_00.png\n",
            "Copied: 00291_00.jpg e 00291_00.png\n",
            "Copied: 00311_00.jpg e 00311_00.png\n",
            "Copied: 00330_00.jpg e 00330_00.png\n",
            "Copied: 00339_00.jpg e 00339_00.png\n",
            "Copied: 00345_00.jpg e 00345_00.png\n",
            "Copied: 00348_00.jpg e 00348_00.png\n",
            "Copied: 00349_00.jpg e 00349_00.png\n",
            "Copied: 00373_00.jpg e 00373_00.png\n",
            "Copied: 00396_00.jpg e 00396_00.png\n",
            "Copied: 00397_00.jpg e 00397_00.png\n",
            "Copied: 00400_00.jpg e 00400_00.png\n",
            "Copied: 00401_00.jpg e 00401_00.png\n",
            "Copied: 00428_00.jpg e 00428_00.png\n",
            "Copied: 00440_00.jpg e 00440_00.png\n",
            "Copied: 00458_00.jpg e 00458_00.png\n",
            "Copied: 00460_00.jpg e 00460_00.png\n",
            "Copied: 00462_00.jpg e 00462_00.png\n",
            "Copied: 00463_00.jpg e 00463_00.png\n",
            "Copied: 00466_00.jpg e 00466_00.png\n",
            "Copied: 00468_00.jpg e 00468_00.png\n",
            "Copied: 00470_00.jpg e 00470_00.png\n",
            "Copied: 00474_00.jpg e 00474_00.png\n",
            "Copied: 00475_00.jpg e 00475_00.png\n",
            "Copied: 00482_00.jpg e 00482_00.png\n",
            "Copied: 00484_00.jpg e 00484_00.png\n",
            "Copied: 00494_00.jpg e 00494_00.png\n",
            "Copied: 00499_00.jpg e 00499_00.png\n",
            "Copied: 00502_00.jpg e 00502_00.png\n",
            "Copied: 00503_00.jpg e 00503_00.png\n",
            "Copied: 00504_00.jpg e 00504_00.png\n",
            "Copied: 00509_00.jpg e 00509_00.png\n",
            "Copied: 00518_00.jpg e 00518_00.png\n",
            "Copied: 00563_00.jpg e 00563_00.png\n",
            "Copied: 00566_00.jpg e 00566_00.png\n",
            "Copied: 00568_00.jpg e 00568_00.png\n",
            "Copied: 00579_00.jpg e 00579_00.png\n",
            "Copied: 00583_00.jpg e 00583_00.png\n",
            "Copied: 00592_00.jpg e 00592_00.png\n",
            "Copied: 00599_00.jpg e 00599_00.png\n",
            "Copied: 00609_00.jpg e 00609_00.png\n",
            "Copied: 00611_00.jpg e 00611_00.png\n",
            "Copied: 00617_00.jpg e 00617_00.png\n",
            "Copied: 00620_00.jpg e 00620_00.png\n",
            "Copied: 00624_00.jpg e 00624_00.png\n",
            "Copied: 00627_00.jpg e 00627_00.png\n",
            "Copied: 00633_00.jpg e 00633_00.png\n",
            "Copied: 00641_00.jpg e 00641_00.png\n",
            "Copied: 00645_00.jpg e 00645_00.png\n",
            "Copied: 00654_00.jpg e 00654_00.png\n",
            "Copied: 00664_00.jpg e 00664_00.png\n",
            "Copied: 00683_00.jpg e 00683_00.png\n",
            "Copied: 00684_00.jpg e 00684_00.png\n",
            "Copied: 00690_00.jpg e 00690_00.png\n",
            "Copied: 00698_00.jpg e 00698_00.png\n",
            "Copied: 00705_00.jpg e 00705_00.png\n",
            "Copied: 00709_00.jpg e 00709_00.png\n",
            "Copied: 00713_00.jpg e 00713_00.png\n",
            "Copied: 00714_00.jpg e 00714_00.png\n",
            "Copied: 00725_00.jpg e 00725_00.png\n",
            "Copied: 00736_00.jpg e 00736_00.png\n"
          ]
        }
      ],
      "source": [
        "# Define custom indeces list (e.g. first 100 couples)\n",
        "indices = [i for i in range(100)]\n",
        "\n",
        "image_path = \"datasets/VITONHD/image\"\n",
        "parse_path = \"datasets/VITONHD/image-parse-v3\"\n",
        "copy_subset_images(image_path, parse_path, indices)"
      ]
    },
    {
      "cell_type": "markdown",
      "metadata": {
        "id": "2RLyOrarIaef"
      },
      "source": [
        "## Run Inference\n",
        "Here, we use the trained SCHP model to segment clothing and body regions from input images.\n",
        "\n",
        "**Image Preprocessing**: Convert images to the required input format. <br>\n",
        "**Forward Pass**: Feed images through the SCHP network to obtain parsing maps. <br>\n",
        "**Post-processing**: Convert model output into a usable segmentation mask. <br>\n",
        "\n",
        "The output consists of per-pixel class labels representing different clothing categories."
      ]
    },
    {
      "cell_type": "code",
      "execution_count": 9,
      "metadata": {
        "id": "zSsnuB0eIaef"
      },
      "outputs": [],
      "source": [
        "# define input dir and output dir\n",
        "input_dir = \"datasets/VITONHD/image_test\"\n",
        "output_dir = \"results/image-parse-v3\"\n",
        "os.makedirs(output_dir, exist_ok=True)"
      ]
    },
    {
      "cell_type": "code",
      "execution_count": 10,
      "metadata": {
        "colab": {
          "base_uri": "https://localhost:8080/"
        },
        "id": "59HQlyCrIaef",
        "outputId": "50cabe2b-2f03-4e34-8f70-96ef957e9e70"
      },
      "outputs": [
        {
          "name": "stdout",
          "output_type": "stream",
          "text": [
            "/usr/local/lib/python3.11/dist-packages/torch/utils/cpp_extension.py:1964: UserWarning: TORCH_CUDA_ARCH_LIST is not set, all archs for visible cards are included for compilation. \n",
            "If this is not desired, please set os.environ['TORCH_CUDA_ARCH_LIST'].\n",
            "  warnings.warn(\n",
            "Evaluating total class number 18 with ['Background', 'Hat', 'Hair', 'Sunglasses', 'Upper-clothes', 'Skirt', 'Pants', 'Dress', 'Belt', 'Left-shoe', 'Right-shoe', 'Face', 'Left-leg', 'Right-leg', 'Left-arm', 'Right-arm', 'Bag', 'Scarf']\n",
            "/content/Self-Correction-Human-Parsing/simple_extractor.py:106: FutureWarning: You are using `torch.load` with `weights_only=False` (the current default value), which uses the default pickle module implicitly. It is possible to construct malicious pickle data which will execute arbitrary code during unpickling (See https://github.com/pytorch/pytorch/blob/main/SECURITY.md#untrusted-models for more details). In a future release, the default value for `weights_only` will be flipped to `True`. This limits the functions that could be executed during unpickling. Arbitrary objects will no longer be allowed to be loaded via this mode unless they are explicitly allowlisted by the user via `torch.serialization.add_safe_globals`. We recommend you start setting `weights_only=True` for any use case where you don't have full control of the loaded file. Please open an issue on GitHub for any issues related to this experimental feature.\n",
            "  state_dict = torch.load(args.model_restore)['state_dict']\n",
            "100% 100/100 [00:39<00:00,  2.53it/s]\n"
          ]
        }
      ],
      "source": [
        "!python3 simple_extractor.py --dataset 'atr' --model-restore 'checkpoints/final.pth' --input-dir \"datasets/VITONHD/image_test\" --output-dir \"results/image-parse-v3\""
      ]
    },
    {
      "cell_type": "markdown",
      "metadata": {
        "id": "sq0tU1wfIaef"
      },
      "source": [
        "# Matching the parsing map\n",
        "Since SCHP uses a different label format than VITON-HD, we remap the parsed segmentation masks to the required format."
      ]
    },
    {
      "cell_type": "code",
      "execution_count": 11,
      "metadata": {
        "id": "_gwQoqMAIaef"
      },
      "outputs": [],
      "source": [
        "# ATR → CIHP custom mapping\n",
        "ATR_TO_CIHP = {\n",
        "    0: 0,    # Background\n",
        "    1: 1,    # Hat\n",
        "    2: 2,    # Hair\n",
        "    3: 4,   # Sunglasses\n",
        "    4: 5,    # Upper-clothes\n",
        "    5: 12,    # Skirt\n",
        "    6: 9,    # Pants\n",
        "    7: 6,   # Dress\n",
        "    8: -1,   # Belt (Noise)\n",
        "    9: 18,   # Left shoe\n",
        "    10: 19,  # Right shoe\n",
        "    11: 13,  # Face\n",
        "    12: 16,   # Left leg\n",
        "    13: 17,  # Right leg\n",
        "    14: 14,   # Left arm\n",
        "    15: 15,   # Right arm\n",
        "    16: -1,  # Bag (Noise)\n",
        "    17: 11   # Scarf\n",
        "}"
      ]
    },
    {
      "cell_type": "code",
      "execution_count": 12,
      "metadata": {
        "id": "GYF9rLxSIaef"
      },
      "outputs": [],
      "source": [
        "def map_atr_to_cihp(input_img, output_img): # function to apply the custom mapping\n",
        "\n",
        "    # Load mapping\n",
        "    atr_map = np.array(Image.open(input_img))\n",
        "\n",
        "    # Default mapping\n",
        "    cihp_map = np.zeros_like(atr_map)\n",
        "\n",
        "    # ATR → CIHP\n",
        "    for atr_class, cihp_class in ATR_TO_CIHP.items():\n",
        "        if cihp_class == -1:\n",
        "            continue  # Ignore noise classes\n",
        "        cihp_map[atr_map == atr_class] = cihp_class\n",
        "\n",
        "    cihp_image = Image.fromarray(cihp_map.astype(np.uint8))\n",
        "    cihp_image.save(output_img)"
      ]
    },
    {
      "cell_type": "code",
      "execution_count": 13,
      "metadata": {
        "id": "GyMjXE7kIaef"
      },
      "outputs": [],
      "source": [
        "def process_segmentation_images(input_path, output_path): # function to apply map_atr_to_cihp to all processed images\n",
        "    if not os.path.exists(output_path):\n",
        "        os.makedirs(output_path)\n",
        "\n",
        "    images = [f for f in os.listdir(input_path) if f.endswith(('.png', '.jpg'))]\n",
        "\n",
        "    for img_name in images:\n",
        "        input_img = os.path.join(input_path, img_name)\n",
        "        output_img = os.path.join(output_path, img_name)\n",
        "\n",
        "        map_atr_to_cihp(input_img, output_img)\n",
        "\n",
        "    print(f\"Processing completed. Mapped images are saved in {output_path}\")\n"
      ]
    },
    {
      "cell_type": "code",
      "execution_count": 14,
      "metadata": {
        "id": "LzFpv-z5Iaef"
      },
      "outputs": [],
      "source": [
        "input_path = \"results/image-parse-v3\"\n",
        "output_path = \"results/image-parse-v3-mapped\"\n",
        "os.makedirs(output_path, exist_ok=True)"
      ]
    },
    {
      "cell_type": "code",
      "execution_count": 15,
      "metadata": {
        "colab": {
          "base_uri": "https://localhost:8080/"
        },
        "id": "Zcx4kOOOIaeg",
        "outputId": "e7383099-390f-46d2-88c2-4c18fc7d9eb9"
      },
      "outputs": [
        {
          "name": "stdout",
          "output_type": "stream",
          "text": [
            "Processing completed. Mapped images are saved in results/image-parse-v3-mapped\n"
          ]
        }
      ],
      "source": [
        "process_segmentation_images(input_path, output_path)"
      ]
    },
    {
      "cell_type": "markdown",
      "metadata": {
        "id": "hIZ0IOHeIaeg"
      },
      "source": [
        "# Metrics\n",
        "- **(relative) Intersection over Union (IoU)**: Measures the overlap between the predicted and \"ground truth\" (relative to VITONHD outputs) segmentation masks. In particular we computed the per-parts values and the overall value. Higher is better.\n",
        "- **(relative) Dice Coefficient** (F1 Score for segmentation): This metric is similar to IoU but gives more weight to correctly predicted pixels. A Dice score closer to 1 means higher segmentation quality."
      ]
    },
    {
      "cell_type": "code",
      "execution_count": 41,
      "metadata": {
        "id": "heki8IoBSsy9"
      },
      "outputs": [],
      "source": [
        "CIHP_CLASS_NAMES = {\n",
        "    0: \"Background\",\n",
        "    1: \"Hat\",\n",
        "    2: \"Hair\",\n",
        "    4: \"Sunglasses\",\n",
        "    5: \"Upper-clothes\",\n",
        "    6: \"Dress\",\n",
        "    9: \"Pants\",\n",
        "    11: \"Scarf\",\n",
        "    12: \"Skirt\",\n",
        "    13: \"Face\",\n",
        "    14: \"Left arm\",\n",
        "    15: \"Right arm\",\n",
        "    16: \"Left leg\",\n",
        "    17: \"Right leg\",\n",
        "    18: \"Left shoe\",\n",
        "    19: \"Right shoe\"\n",
        "}"
      ]
    },
    {
      "cell_type": "code",
      "execution_count": 49,
      "metadata": {
        "id": "A-vbbT0pIaeg"
      },
      "outputs": [],
      "source": [
        "# def load_mask(image_path): #binary mask convertion\n",
        "#     mask = cv2.imread(image_path, cv2.IMREAD_GRAYSCALE)\n",
        "#     return mask / 255\n",
        "\n",
        "def iou_score(y_true, y_pred): #get IoU between original mask and generated\n",
        "    intersection = np.logical_and(y_true, y_pred).sum()\n",
        "    union = np.logical_or(y_true, y_pred).sum()\n",
        "    return intersection / union if union > 0 else 1.0\n",
        "\n",
        "def dice_coefficient(y_true, y_pred): #Dice coefficient\n",
        "    intersection = np.logical_and(y_true, y_pred).sum()\n",
        "    return (2. * intersection) / (y_true.sum() + y_pred.sum()) if (y_true.sum() + y_pred.sum()) > 0 else 1.0\n",
        "\n",
        "def mean_iou(y_true, y_pred, num_classes): # mean IoU for multiple classes masks\n",
        "    ious = []\n",
        "    for cls in range(num_classes):\n",
        "        iou = iou_score(y_true == cls, y_pred == cls)\n",
        "        ious.append(iou)\n",
        "    return np.mean(ious)"
      ]
    },
    {
      "cell_type": "code",
      "execution_count": 50,
      "metadata": {
        "id": "szDaoYJnUBu1"
      },
      "outputs": [],
      "source": [
        "def compute_metrics(mapped_dir, original_dir):\n",
        "    mapped_files = set(os.listdir(mapped_dir))\n",
        "    original_files = set(os.listdir(original_dir))\n",
        "    common_files = mapped_files.intersection(original_files)\n",
        "\n",
        "    iou_scores = []\n",
        "    dice_scores = []\n",
        "    mean_ious = []\n",
        "\n",
        "    # Dictionary for each body part\n",
        "    per_class_ious = {cls: [] for cls in set(ATR_TO_CIHP.values()) if cls != -1}\n",
        "\n",
        "    for file in common_files:\n",
        "        img_true = Image.open(os.path.join(original_dir, file))\n",
        "        img_pred = Image.open(os.path.join(mapped_dir, file))\n",
        "        y_true = np.array(img_true)\n",
        "        y_pred = np.array(img_pred)\n",
        "\n",
        "        iou_scores.append(iou_score(y_true, y_pred))\n",
        "        dice_scores.append(dice_coefficient(y_true, y_pred))\n",
        "        mean_ious.append(mean_iou(y_true, y_pred, 18))\n",
        "\n",
        "        # Get IoU for class\n",
        "        for atr_cls, cihp_cls in ATR_TO_CIHP.items():\n",
        "            if cihp_cls == -1:\n",
        "                continue  # Skip noise\n",
        "\n",
        "            true_mask = (y_true == cihp_cls)\n",
        "            pred_mask = (y_pred == cihp_cls)\n",
        "\n",
        "            # assign nan for non-matching classes\n",
        "            if np.sum(true_mask) == 0 and np.sum(pred_mask) == 0:\n",
        "                iou = np.nan\n",
        "            else:\n",
        "                iou = iou_score(true_mask, pred_mask)\n",
        "\n",
        "            per_class_ious[cihp_cls].append(iou)\n",
        "\n",
        "    # Get mIoU for class\n",
        "    per_class_mean_iou = {\n",
        "        cls: np.nanmean(iou_list) if len(iou_list) > 0 else 0\n",
        "        for cls, iou_list in per_class_ious.items()\n",
        "    }\n",
        "\n",
        "    # Print overall results\n",
        "    print(\"Mean IoU:\", np.nanmean(iou_scores))\n",
        "    print(\"Mean Dice Coefficient:\", np.nanmean(dice_scores))\n",
        "\n",
        "    # Print mIoU for each class\n",
        "    print(\"\\nMean IoU for each body part:\")\n",
        "    for cls, m_iou in per_class_mean_iou.items():\n",
        "        body_part = CIHP_CLASS_NAMES.get(cls, f\"Classe {cls}\")\n",
        "        print(f\"{body_part}: {m_iou:.4f}\")\n"
      ]
    },
    {
      "cell_type": "code",
      "execution_count": 51,
      "metadata": {
        "colab": {
          "base_uri": "https://localhost:8080/"
        },
        "id": "ruAh4f45Iaeg",
        "outputId": "6d7719f5-dd53-41e4-8ec1-899abe4ba653"
      },
      "outputs": [
        {
          "name": "stdout",
          "output_type": "stream",
          "text": [
            "Mean IoU: 0.9743288739239847\n",
            "Mean Dice Coefficient: 0.12905259760735505\n",
            "\n",
            "Mean IoU for each body part:\n",
            "Background: 0.9808\n",
            "Hat: 0.0000\n",
            "Hair: 0.8288\n",
            "Sunglasses: nan\n",
            "Upper-clothes: 0.9011\n",
            "Dress: 0.1269\n",
            "Pants: 0.8130\n",
            "Scarf: 0.0000\n",
            "Skirt: 0.4309\n",
            "Face: 0.6564\n",
            "Left arm: 0.8218\n",
            "Right arm: 0.7829\n",
            "Left leg: 0.5529\n",
            "Right leg: 0.4640\n",
            "Left shoe: nan\n",
            "Right shoe: nan\n"
          ]
        },
        {
          "name": "stderr",
          "output_type": "stream",
          "text": [
            "<ipython-input-50-f218b4f36d68>:41: RuntimeWarning: Mean of empty slice\n",
            "  cls: np.nanmean(iou_list) if len(iou_list) > 0 else 0\n"
          ]
        }
      ],
      "source": [
        "mapped_path = \"results/image-parse-v3-mapped\"\n",
        "original_path = \"datasets/VITONHD/image-parse-v3_test\"\n",
        "compute_metrics(mapped_path, original_path)"
      ]
    }
  ],
  "metadata": {
    "accelerator": "GPU",
    "colab": {
      "gpuType": "T4",
      "provenance": []
    },
    "kernelspec": {
      "display_name": "Python 3",
      "name": "python3"
    },
    "language_info": {
      "name": "python",
      "version": "3.11.9"
    }
  },
  "nbformat": 4,
  "nbformat_minor": 0
}
