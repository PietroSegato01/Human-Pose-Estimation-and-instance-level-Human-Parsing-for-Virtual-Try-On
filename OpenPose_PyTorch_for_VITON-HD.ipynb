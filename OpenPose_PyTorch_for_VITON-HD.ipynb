{
 "cells": [
  {
   "cell_type": "markdown",
   "metadata": {
    "id": "2VS521QWbfno"
   },
   "source": [
    "# OpenPose PyTorch Implementation\n",
    "**Notebook Authors:** \n",
    "- **Segato Pietro** (2122209)  \n",
    "- **Vezzosi Giacomo** (2104369)  \n",
    "- **Vitali Giovanni** (2119998)\n",
    "\n",
    "# Introduction\n",
    "This notebook provides an implementation of OpenPose using PyTorch. The goal is to perform human pose estimation using OpenPose architecture over VITONHD images. <br>\n",
    "The code is adapted from the GitHub repository by Hzzone ([pytorch-openpose](https://github.com/Hzzone/pytorch-openpose)). It is based on CMU-Perceptual-Computing-Lab work ([CMU-OpenPose](https://github.com/CMU-Perceptual-Computing-Lab/openpose))\n",
    "\n",
    "## Execution Environment  \n",
    "This notebook is designed to be executed on **Google Colab** to ensure compatibility with the necessary dependencies and GPU acceleration. Before running the code, ensure that the runtime environment is set to **GPU** (Runtime → Change runtime type → GPU)."
   ]
  },
  {
   "cell_type": "markdown",
   "metadata": {
    "id": "wH_IabyQbfnp"
   },
   "source": [
    "# Repository and dependecies"
   ]
  },
  {
   "cell_type": "code",
   "execution_count": 1,
   "metadata": {
    "colab": {
     "base_uri": "https://localhost:8080/"
    },
    "executionInfo": {
     "elapsed": 2908,
     "status": "ok",
     "timestamp": 1739608527129,
     "user": {
      "displayName": "Giovanni Vitali",
      "userId": "04192528405390917138"
     },
     "user_tz": -60
    },
    "id": "N2Elq7Rfbfnp",
    "outputId": "4adc785e-14f1-41d4-9e24-503bbcfa4c0f"
   },
   "outputs": [
    {
     "name": "stdout",
     "output_type": "stream",
     "text": [
      "Cloning into 'pytorch-openpose'...\n",
      "remote: Enumerating objects: 154, done.\u001b[K\n",
      "remote: Counting objects: 100% (154/154), done.\u001b[K\n",
      "remote: Compressing objects: 100% (85/85), done.\u001b[K\n",
      "remote: Total 154 (delta 69), reused 152 (delta 67), pack-reused 0 (from 0)\u001b[K\n",
      "Receiving objects: 100% (154/154), 20.18 MiB | 17.02 MiB/s, done.\n",
      "Resolving deltas: 100% (69/69), done.\n",
      "/content/pytorch-openpose\n"
     ]
    }
   ],
   "source": [
    "# Repository Cloning\n",
    "!git clone https://github.com/Hzzone/pytorch-openpose.git\n",
    "%cd pytorch-openpose"
   ]
  },
  {
   "cell_type": "code",
   "execution_count": 2,
   "metadata": {
    "colab": {
     "base_uri": "https://localhost:8080/"
    },
    "executionInfo": {
     "elapsed": 92999,
     "status": "ok",
     "timestamp": 1739608620126,
     "user": {
      "displayName": "Giovanni Vitali",
      "userId": "04192528405390917138"
     },
     "user_tz": -60
    },
    "id": "Spp6cHp6bfnq",
    "outputId": "cabc6386-cad5-433d-b48d-e93e3d24c1df"
   },
   "outputs": [
    {
     "name": "stdout",
     "output_type": "stream",
     "text": [
      "Requirement already satisfied: numpy in /usr/local/lib/python3.11/dist-packages (from -r requirements.txt (line 1)) (1.26.4)\n",
      "Requirement already satisfied: matplotlib in /usr/local/lib/python3.11/dist-packages (from -r requirements.txt (line 2)) (3.10.0)\n",
      "Requirement already satisfied: opencv-python in /usr/local/lib/python3.11/dist-packages (from -r requirements.txt (line 3)) (4.11.0.86)\n",
      "Requirement already satisfied: scipy in /usr/local/lib/python3.11/dist-packages (from -r requirements.txt (line 4)) (1.13.1)\n",
      "Requirement already satisfied: scikit-image in /usr/local/lib/python3.11/dist-packages (from -r requirements.txt (line 5)) (0.25.1)\n",
      "Requirement already satisfied: tqdm in /usr/local/lib/python3.11/dist-packages (from -r requirements.txt (line 6)) (4.67.1)\n",
      "Requirement already satisfied: contourpy>=1.0.1 in /usr/local/lib/python3.11/dist-packages (from matplotlib->-r requirements.txt (line 2)) (1.3.1)\n",
      "Requirement already satisfied: cycler>=0.10 in /usr/local/lib/python3.11/dist-packages (from matplotlib->-r requirements.txt (line 2)) (0.12.1)\n",
      "Requirement already satisfied: fonttools>=4.22.0 in /usr/local/lib/python3.11/dist-packages (from matplotlib->-r requirements.txt (line 2)) (4.56.0)\n",
      "Requirement already satisfied: kiwisolver>=1.3.1 in /usr/local/lib/python3.11/dist-packages (from matplotlib->-r requirements.txt (line 2)) (1.4.8)\n",
      "Requirement already satisfied: packaging>=20.0 in /usr/local/lib/python3.11/dist-packages (from matplotlib->-r requirements.txt (line 2)) (24.2)\n",
      "Requirement already satisfied: pillow>=8 in /usr/local/lib/python3.11/dist-packages (from matplotlib->-r requirements.txt (line 2)) (11.1.0)\n",
      "Requirement already satisfied: pyparsing>=2.3.1 in /usr/local/lib/python3.11/dist-packages (from matplotlib->-r requirements.txt (line 2)) (3.2.1)\n",
      "Requirement already satisfied: python-dateutil>=2.7 in /usr/local/lib/python3.11/dist-packages (from matplotlib->-r requirements.txt (line 2)) (2.8.2)\n",
      "Requirement already satisfied: networkx>=3.0 in /usr/local/lib/python3.11/dist-packages (from scikit-image->-r requirements.txt (line 5)) (3.4.2)\n",
      "Requirement already satisfied: imageio!=2.35.0,>=2.33 in /usr/local/lib/python3.11/dist-packages (from scikit-image->-r requirements.txt (line 5)) (2.37.0)\n",
      "Requirement already satisfied: tifffile>=2022.8.12 in /usr/local/lib/python3.11/dist-packages (from scikit-image->-r requirements.txt (line 5)) (2025.1.10)\n",
      "Requirement already satisfied: lazy-loader>=0.4 in /usr/local/lib/python3.11/dist-packages (from scikit-image->-r requirements.txt (line 5)) (0.4)\n",
      "Requirement already satisfied: six>=1.5 in /usr/local/lib/python3.11/dist-packages (from python-dateutil>=2.7->matplotlib->-r requirements.txt (line 2)) (1.17.0)\n",
      "Requirement already satisfied: torch in /usr/local/lib/python3.11/dist-packages (2.5.1+cu124)\n",
      "Requirement already satisfied: torchvision in /usr/local/lib/python3.11/dist-packages (0.20.1+cu124)\n",
      "Requirement already satisfied: numpy in /usr/local/lib/python3.11/dist-packages (1.26.4)\n",
      "Requirement already satisfied: opencv-python in /usr/local/lib/python3.11/dist-packages (4.11.0.86)\n",
      "Requirement already satisfied: matplotlib in /usr/local/lib/python3.11/dist-packages (3.10.0)\n",
      "Requirement already satisfied: filelock in /usr/local/lib/python3.11/dist-packages (from torch) (3.17.0)\n",
      "Requirement already satisfied: typing-extensions>=4.8.0 in /usr/local/lib/python3.11/dist-packages (from torch) (4.12.2)\n",
      "Requirement already satisfied: networkx in /usr/local/lib/python3.11/dist-packages (from torch) (3.4.2)\n",
      "Requirement already satisfied: jinja2 in /usr/local/lib/python3.11/dist-packages (from torch) (3.1.5)\n",
      "Requirement already satisfied: fsspec in /usr/local/lib/python3.11/dist-packages (from torch) (2024.10.0)\n",
      "Collecting nvidia-cuda-nvrtc-cu12==12.4.127 (from torch)\n",
      "  Downloading nvidia_cuda_nvrtc_cu12-12.4.127-py3-none-manylinux2014_x86_64.whl.metadata (1.5 kB)\n",
      "Collecting nvidia-cuda-runtime-cu12==12.4.127 (from torch)\n",
      "  Downloading nvidia_cuda_runtime_cu12-12.4.127-py3-none-manylinux2014_x86_64.whl.metadata (1.5 kB)\n",
      "Collecting nvidia-cuda-cupti-cu12==12.4.127 (from torch)\n",
      "  Downloading nvidia_cuda_cupti_cu12-12.4.127-py3-none-manylinux2014_x86_64.whl.metadata (1.6 kB)\n",
      "Collecting nvidia-cudnn-cu12==9.1.0.70 (from torch)\n",
      "  Downloading nvidia_cudnn_cu12-9.1.0.70-py3-none-manylinux2014_x86_64.whl.metadata (1.6 kB)\n",
      "Collecting nvidia-cublas-cu12==12.4.5.8 (from torch)\n",
      "  Downloading nvidia_cublas_cu12-12.4.5.8-py3-none-manylinux2014_x86_64.whl.metadata (1.5 kB)\n",
      "Collecting nvidia-cufft-cu12==11.2.1.3 (from torch)\n",
      "  Downloading nvidia_cufft_cu12-11.2.1.3-py3-none-manylinux2014_x86_64.whl.metadata (1.5 kB)\n",
      "Collecting nvidia-curand-cu12==10.3.5.147 (from torch)\n",
      "  Downloading nvidia_curand_cu12-10.3.5.147-py3-none-manylinux2014_x86_64.whl.metadata (1.5 kB)\n",
      "Collecting nvidia-cusolver-cu12==11.6.1.9 (from torch)\n",
      "  Downloading nvidia_cusolver_cu12-11.6.1.9-py3-none-manylinux2014_x86_64.whl.metadata (1.6 kB)\n",
      "Collecting nvidia-cusparse-cu12==12.3.1.170 (from torch)\n",
      "  Downloading nvidia_cusparse_cu12-12.3.1.170-py3-none-manylinux2014_x86_64.whl.metadata (1.6 kB)\n",
      "Requirement already satisfied: nvidia-nccl-cu12==2.21.5 in /usr/local/lib/python3.11/dist-packages (from torch) (2.21.5)\n",
      "Requirement already satisfied: nvidia-nvtx-cu12==12.4.127 in /usr/local/lib/python3.11/dist-packages (from torch) (12.4.127)\n",
      "Collecting nvidia-nvjitlink-cu12==12.4.127 (from torch)\n",
      "  Downloading nvidia_nvjitlink_cu12-12.4.127-py3-none-manylinux2014_x86_64.whl.metadata (1.5 kB)\n",
      "Requirement already satisfied: triton==3.1.0 in /usr/local/lib/python3.11/dist-packages (from torch) (3.1.0)\n",
      "Requirement already satisfied: sympy==1.13.1 in /usr/local/lib/python3.11/dist-packages (from torch) (1.13.1)\n",
      "Requirement already satisfied: mpmath<1.4,>=1.1.0 in /usr/local/lib/python3.11/dist-packages (from sympy==1.13.1->torch) (1.3.0)\n",
      "Requirement already satisfied: pillow!=8.3.*,>=5.3.0 in /usr/local/lib/python3.11/dist-packages (from torchvision) (11.1.0)\n",
      "Requirement already satisfied: contourpy>=1.0.1 in /usr/local/lib/python3.11/dist-packages (from matplotlib) (1.3.1)\n",
      "Requirement already satisfied: cycler>=0.10 in /usr/local/lib/python3.11/dist-packages (from matplotlib) (0.12.1)\n",
      "Requirement already satisfied: fonttools>=4.22.0 in /usr/local/lib/python3.11/dist-packages (from matplotlib) (4.56.0)\n",
      "Requirement already satisfied: kiwisolver>=1.3.1 in /usr/local/lib/python3.11/dist-packages (from matplotlib) (1.4.8)\n",
      "Requirement already satisfied: packaging>=20.0 in /usr/local/lib/python3.11/dist-packages (from matplotlib) (24.2)\n",
      "Requirement already satisfied: pyparsing>=2.3.1 in /usr/local/lib/python3.11/dist-packages (from matplotlib) (3.2.1)\n",
      "Requirement already satisfied: python-dateutil>=2.7 in /usr/local/lib/python3.11/dist-packages (from matplotlib) (2.8.2)\n",
      "Requirement already satisfied: six>=1.5 in /usr/local/lib/python3.11/dist-packages (from python-dateutil>=2.7->matplotlib) (1.17.0)\n",
      "Requirement already satisfied: MarkupSafe>=2.0 in /usr/local/lib/python3.11/dist-packages (from jinja2->torch) (3.0.2)\n",
      "Downloading nvidia_cublas_cu12-12.4.5.8-py3-none-manylinux2014_x86_64.whl (363.4 MB)\n",
      "\u001b[2K   \u001b[90m━━━━━━━━━━━━━━━━━━━━━━━━━━━━━━━━━━━━━━━━\u001b[0m \u001b[32m363.4/363.4 MB\u001b[0m \u001b[31m2.0 MB/s\u001b[0m eta \u001b[36m0:00:00\u001b[0m\n",
      "\u001b[?25hDownloading nvidia_cuda_cupti_cu12-12.4.127-py3-none-manylinux2014_x86_64.whl (13.8 MB)\n",
      "\u001b[2K   \u001b[90m━━━━━━━━━━━━━━━━━━━━━━━━━━━━━━━━━━━━━━━━\u001b[0m \u001b[32m13.8/13.8 MB\u001b[0m \u001b[31m110.5 MB/s\u001b[0m eta \u001b[36m0:00:00\u001b[0m\n",
      "\u001b[?25hDownloading nvidia_cuda_nvrtc_cu12-12.4.127-py3-none-manylinux2014_x86_64.whl (24.6 MB)\n",
      "\u001b[2K   \u001b[90m━━━━━━━━━━━━━━━━━━━━━━━━━━━━━━━━━━━━━━━━\u001b[0m \u001b[32m24.6/24.6 MB\u001b[0m \u001b[31m89.3 MB/s\u001b[0m eta \u001b[36m0:00:00\u001b[0m\n",
      "\u001b[?25hDownloading nvidia_cuda_runtime_cu12-12.4.127-py3-none-manylinux2014_x86_64.whl (883 kB)\n",
      "\u001b[2K   \u001b[90m━━━━━━━━━━━━━━━━━━━━━━━━━━━━━━━━━━━━━━━━\u001b[0m \u001b[32m883.7/883.7 kB\u001b[0m \u001b[31m56.2 MB/s\u001b[0m eta \u001b[36m0:00:00\u001b[0m\n",
      "\u001b[?25hDownloading nvidia_cudnn_cu12-9.1.0.70-py3-none-manylinux2014_x86_64.whl (664.8 MB)\n",
      "\u001b[2K   \u001b[90m━━━━━━━━━━━━━━━━━━━━━━━━━━━━━━━━━━━━━━━━\u001b[0m \u001b[32m664.8/664.8 MB\u001b[0m \u001b[31m2.9 MB/s\u001b[0m eta \u001b[36m0:00:00\u001b[0m\n",
      "\u001b[?25hDownloading nvidia_cufft_cu12-11.2.1.3-py3-none-manylinux2014_x86_64.whl (211.5 MB)\n",
      "\u001b[2K   \u001b[90m━━━━━━━━━━━━━━━━━━━━━━━━━━━━━━━━━━━━━━━━\u001b[0m \u001b[32m211.5/211.5 MB\u001b[0m \u001b[31m5.7 MB/s\u001b[0m eta \u001b[36m0:00:00\u001b[0m\n",
      "\u001b[?25hDownloading nvidia_curand_cu12-10.3.5.147-py3-none-manylinux2014_x86_64.whl (56.3 MB)\n",
      "\u001b[2K   \u001b[90m━━━━━━━━━━━━━━━━━━━━━━━━━━━━━━━━━━━━━━━━\u001b[0m \u001b[32m56.3/56.3 MB\u001b[0m \u001b[31m12.3 MB/s\u001b[0m eta \u001b[36m0:00:00\u001b[0m\n",
      "\u001b[?25hDownloading nvidia_cusolver_cu12-11.6.1.9-py3-none-manylinux2014_x86_64.whl (127.9 MB)\n",
      "\u001b[2K   \u001b[90m━━━━━━━━━━━━━━━━━━━━━━━━━━━━━━━━━━━━━━━━\u001b[0m \u001b[32m127.9/127.9 MB\u001b[0m \u001b[31m7.3 MB/s\u001b[0m eta \u001b[36m0:00:00\u001b[0m\n",
      "\u001b[?25hDownloading nvidia_cusparse_cu12-12.3.1.170-py3-none-manylinux2014_x86_64.whl (207.5 MB)\n",
      "\u001b[2K   \u001b[90m━━━━━━━━━━━━━━━━━━━━━━━━━━━━━━━━━━━━━━━━\u001b[0m \u001b[32m207.5/207.5 MB\u001b[0m \u001b[31m5.8 MB/s\u001b[0m eta \u001b[36m0:00:00\u001b[0m\n",
      "\u001b[?25hDownloading nvidia_nvjitlink_cu12-12.4.127-py3-none-manylinux2014_x86_64.whl (21.1 MB)\n",
      "\u001b[2K   \u001b[90m━━━━━━━━━━━━━━━━━━━━━━━━━━━━━━━━━━━━━━━━\u001b[0m \u001b[32m21.1/21.1 MB\u001b[0m \u001b[31m89.5 MB/s\u001b[0m eta \u001b[36m0:00:00\u001b[0m\n",
      "\u001b[?25hInstalling collected packages: nvidia-nvjitlink-cu12, nvidia-curand-cu12, nvidia-cufft-cu12, nvidia-cuda-runtime-cu12, nvidia-cuda-nvrtc-cu12, nvidia-cuda-cupti-cu12, nvidia-cublas-cu12, nvidia-cusparse-cu12, nvidia-cudnn-cu12, nvidia-cusolver-cu12\n",
      "  Attempting uninstall: nvidia-nvjitlink-cu12\n",
      "    Found existing installation: nvidia-nvjitlink-cu12 12.5.82\n",
      "    Uninstalling nvidia-nvjitlink-cu12-12.5.82:\n",
      "      Successfully uninstalled nvidia-nvjitlink-cu12-12.5.82\n",
      "  Attempting uninstall: nvidia-curand-cu12\n",
      "    Found existing installation: nvidia-curand-cu12 10.3.6.82\n",
      "    Uninstalling nvidia-curand-cu12-10.3.6.82:\n",
      "      Successfully uninstalled nvidia-curand-cu12-10.3.6.82\n",
      "  Attempting uninstall: nvidia-cufft-cu12\n",
      "    Found existing installation: nvidia-cufft-cu12 11.2.3.61\n",
      "    Uninstalling nvidia-cufft-cu12-11.2.3.61:\n",
      "      Successfully uninstalled nvidia-cufft-cu12-11.2.3.61\n",
      "  Attempting uninstall: nvidia-cuda-runtime-cu12\n",
      "    Found existing installation: nvidia-cuda-runtime-cu12 12.5.82\n",
      "    Uninstalling nvidia-cuda-runtime-cu12-12.5.82:\n",
      "      Successfully uninstalled nvidia-cuda-runtime-cu12-12.5.82\n",
      "  Attempting uninstall: nvidia-cuda-nvrtc-cu12\n",
      "    Found existing installation: nvidia-cuda-nvrtc-cu12 12.5.82\n",
      "    Uninstalling nvidia-cuda-nvrtc-cu12-12.5.82:\n",
      "      Successfully uninstalled nvidia-cuda-nvrtc-cu12-12.5.82\n",
      "  Attempting uninstall: nvidia-cuda-cupti-cu12\n",
      "    Found existing installation: nvidia-cuda-cupti-cu12 12.5.82\n",
      "    Uninstalling nvidia-cuda-cupti-cu12-12.5.82:\n",
      "      Successfully uninstalled nvidia-cuda-cupti-cu12-12.5.82\n",
      "  Attempting uninstall: nvidia-cublas-cu12\n",
      "    Found existing installation: nvidia-cublas-cu12 12.5.3.2\n",
      "    Uninstalling nvidia-cublas-cu12-12.5.3.2:\n",
      "      Successfully uninstalled nvidia-cublas-cu12-12.5.3.2\n",
      "  Attempting uninstall: nvidia-cusparse-cu12\n",
      "    Found existing installation: nvidia-cusparse-cu12 12.5.1.3\n",
      "    Uninstalling nvidia-cusparse-cu12-12.5.1.3:\n",
      "      Successfully uninstalled nvidia-cusparse-cu12-12.5.1.3\n",
      "  Attempting uninstall: nvidia-cudnn-cu12\n",
      "    Found existing installation: nvidia-cudnn-cu12 9.3.0.75\n",
      "    Uninstalling nvidia-cudnn-cu12-9.3.0.75:\n",
      "      Successfully uninstalled nvidia-cudnn-cu12-9.3.0.75\n",
      "  Attempting uninstall: nvidia-cusolver-cu12\n",
      "    Found existing installation: nvidia-cusolver-cu12 11.6.3.83\n",
      "    Uninstalling nvidia-cusolver-cu12-11.6.3.83:\n",
      "      Successfully uninstalled nvidia-cusolver-cu12-11.6.3.83\n",
      "Successfully installed nvidia-cublas-cu12-12.4.5.8 nvidia-cuda-cupti-cu12-12.4.127 nvidia-cuda-nvrtc-cu12-12.4.127 nvidia-cuda-runtime-cu12-12.4.127 nvidia-cudnn-cu12-9.1.0.70 nvidia-cufft-cu12-11.2.1.3 nvidia-curand-cu12-10.3.5.147 nvidia-cusolver-cu12-11.6.1.9 nvidia-cusparse-cu12-12.3.1.170 nvidia-nvjitlink-cu12-12.4.127\n"
     ]
    }
   ],
   "source": [
    "# Install dependencies\n",
    "!pip install -r requirements.txt\n",
    "!pip install torch torchvision numpy opencv-python matplotlib"
   ]
  },
  {
   "cell_type": "code",
   "execution_count": 3,
   "metadata": {
    "colab": {
     "base_uri": "https://localhost:8080/"
    },
    "executionInfo": {
     "elapsed": 15364,
     "status": "ok",
     "timestamp": 1739608635486,
     "user": {
      "displayName": "Giovanni Vitali",
      "userId": "04192528405390917138"
     },
     "user_tz": -60
    },
    "id": "7Dq7j5Lobfnq",
    "outputId": "a4a02846-c637-4754-da05-5fedd2ff176a"
   },
   "outputs": [
    {
     "name": "stderr",
     "output_type": "stream",
     "text": [
      "<ipython-input-3-93a598f82cf6>:8: DeprecationWarning: Please import `gaussian_filter` from the `scipy.ndimage` namespace; the `scipy.ndimage.filters` namespace is deprecated and will be removed in SciPy 2.0.0.\n",
      "  from scipy.ndimage.filters import gaussian_filter\n"
     ]
    }
   ],
   "source": [
    "import os\n",
    "import sys\n",
    "import gdown\n",
    "import cv2\n",
    "import torch\n",
    "import numpy as np\n",
    "import matplotlib.pyplot as plt\n",
    "from scipy.ndimage.filters import gaussian_filter\n",
    "import json\n",
    "from src import util\n",
    "from src.util import *\n",
    "from src.body import Body\n",
    "from src.hand import Hand\n",
    "from google.colab import files\n",
    "from src.model import handpose_model\n",
    "import zipfile\n",
    "import shutil\n",
    "from skimage.metrics import structural_similarity as ssim"
   ]
  },
  {
   "cell_type": "code",
   "execution_count": 4,
   "metadata": {
    "colab": {
     "base_uri": "https://localhost:8080/"
    },
    "executionInfo": {
     "elapsed": 57190,
     "status": "ok",
     "timestamp": 1739608692674,
     "user": {
      "displayName": "Giovanni Vitali",
      "userId": "04192528405390917138"
     },
     "user_tz": -60
    },
    "id": "C4tzeRN_bfnq",
    "outputId": "20ec7302-cfe9-4f31-a995-dea40d493bce"
   },
   "outputs": [
    {
     "name": "stdout",
     "output_type": "stream",
     "text": [
      "/usr/local/lib/python3.11/dist-packages/gdown/__main__.py:140: FutureWarning: Option `--id` was deprecated in version 4.3.1 and will be removed in 5.0. You don't need to pass it anymore to use a file ID.\n",
      "  warnings.warn(\n",
      "Retrieving folder contents\n",
      "Processing file 1j7yJMFsMR96EnkLhzbm_tB_rbdM26I8p body_pose_deploy.prototxt\n",
      "Processing file 1EULkcH_hhSU28qVc1jSJpCh2hGOrzpjK body_pose_model.pth\n",
      "Processing file 1XU6nNcnH5xmUFgnvYRYVxU65JtC90C1S body_pose.caffemodel\n",
      "Processing file 1x1a7v7N_yH9k54as0eQfYfFllrmq2KJB hand_pose_deploy.prototxt\n",
      "Processing file 1yVyIsOD32Mq28EHrVVlZbISDN7Icgaxw hand_pose_model.pth\n",
      "Processing file 1HkHfIma4uLaYT8im1h7zp_x1vwb4Lzi8 hand_pose.caffemodel\n",
      "Retrieving folder contents completed\n",
      "Building directory structure\n",
      "Building directory structure completed\n",
      "Downloading...\n",
      "From: https://drive.google.com/uc?id=1j7yJMFsMR96EnkLhzbm_tB_rbdM26I8p\n",
      "To: /content/pytorch-openpose/model/body_pose_deploy.prototxt\n",
      "100% 46.4k/46.4k [00:00<00:00, 65.5MB/s]\n",
      "Downloading...\n",
      "From (original): https://drive.google.com/uc?id=1EULkcH_hhSU28qVc1jSJpCh2hGOrzpjK\n",
      "From (redirected): https://drive.google.com/uc?id=1EULkcH_hhSU28qVc1jSJpCh2hGOrzpjK&confirm=t&uuid=95066a14-c1e6-4d42-840e-09026b362314\n",
      "To: /content/pytorch-openpose/model/body_pose_model.pth\n",
      "100% 209M/209M [00:05<00:00, 36.4MB/s]\n",
      "Downloading...\n",
      "From (original): https://drive.google.com/uc?id=1XU6nNcnH5xmUFgnvYRYVxU65JtC90C1S\n",
      "From (redirected): https://drive.google.com/uc?id=1XU6nNcnH5xmUFgnvYRYVxU65JtC90C1S&confirm=t&uuid=d7ec5347-72a8-4c8a-bd3d-cbf884424793\n",
      "To: /content/pytorch-openpose/model/body_pose.caffemodel\n",
      "100% 209M/209M [00:11<00:00, 18.6MB/s]\n",
      "Downloading...\n",
      "From: https://drive.google.com/uc?id=1x1a7v7N_yH9k54as0eQfYfFllrmq2KJB\n",
      "To: /content/pytorch-openpose/model/hand_pose_deploy.prototxt\n",
      "100% 26.5k/26.5k [00:00<00:00, 55.6MB/s]\n",
      "Downloading...\n",
      "From (original): https://drive.google.com/uc?id=1yVyIsOD32Mq28EHrVVlZbISDN7Icgaxw\n",
      "From (redirected): https://drive.google.com/uc?id=1yVyIsOD32Mq28EHrVVlZbISDN7Icgaxw&confirm=t&uuid=5b7e95a9-449c-4ce9-b13c-5a9b812e106f\n",
      "To: /content/pytorch-openpose/model/hand_pose_model.pth\n",
      "100% 147M/147M [00:05<00:00, 28.6MB/s]\n",
      "Downloading...\n",
      "From (original): https://drive.google.com/uc?id=1HkHfIma4uLaYT8im1h7zp_x1vwb4Lzi8\n",
      "From (redirected): https://drive.google.com/uc?id=1HkHfIma4uLaYT8im1h7zp_x1vwb4Lzi8&confirm=t&uuid=d3613eb0-678a-44fe-abf3-051b43b84628\n",
      "To: /content/pytorch-openpose/model/hand_pose.caffemodel\n",
      "100% 147M/147M [00:06<00:00, 23.8MB/s]\n",
      "Download completed\n"
     ]
    }
   ],
   "source": [
    "# Download weights from gdrive\n",
    "folder_id = \"1JsvI4M4ZTg98fmnCZLFM-3TeovnCRElG\"\n",
    "\n",
    "destination_folder = \"model\"\n",
    "os.makedirs(destination_folder, exist_ok=True)\n",
    "\n",
    "!gdown --folder --id {folder_id} -O {destination_folder}"
   ]
  },
  {
   "cell_type": "code",
   "execution_count": 5,
   "metadata": {
    "colab": {
     "base_uri": "https://localhost:8080/"
    },
    "executionInfo": {
     "elapsed": 10,
     "status": "ok",
     "timestamp": 1739608692674,
     "user": {
      "displayName": "Giovanni Vitali",
      "userId": "04192528405390917138"
     },
     "user_tz": -60
    },
    "id": "fMyvbgsAbfnq",
    "outputId": "a26ce098-7922-42f2-ff45-c12dfd0ee12e"
   },
   "outputs": [
    {
     "name": "stdout",
     "output_type": "stream",
     "text": [
      "/content/pytorch-openpose\n"
     ]
    }
   ],
   "source": [
    "%cd /content/pytorch-openpose"
   ]
  },
  {
   "cell_type": "markdown",
   "metadata": {
    "id": "bTaV5IGxbfnq"
   },
   "source": [
    "## Dataset\n",
    "The dataset is crucial for training and evaluation. Here, we handle dataset loading, preprocessing, and any necessary transformations to ensure compatibility with the OpenPose model.\n"
   ]
  },
  {
   "cell_type": "code",
   "execution_count": 6,
   "metadata": {
    "colab": {
     "base_uri": "https://localhost:8080/",
     "height": 158
    },
    "executionInfo": {
     "elapsed": 264163,
     "status": "ok",
     "timestamp": 1739608956831,
     "user": {
      "displayName": "Giovanni Vitali",
      "userId": "04192528405390917138"
     },
     "user_tz": -60
    },
    "id": "DafH0mFSbfnq",
    "outputId": "2d0b3b5d-77e3-4a50-dcca-c22b62cee49c"
   },
   "outputs": [
    {
     "data": {
      "text/html": [
       "\n",
       "     <input type=\"file\" id=\"files-7e1a1f21-792c-4450-b0e6-6dd9826f1c60\" name=\"files[]\" multiple disabled\n",
       "        style=\"border:none\" />\n",
       "     <output id=\"result-7e1a1f21-792c-4450-b0e6-6dd9826f1c60\">\n",
       "      Upload widget is only available when the cell has been executed in the\n",
       "      current browser session. Please rerun this cell to enable.\n",
       "      </output>\n",
       "      <script>// Copyright 2017 Google LLC\n",
       "//\n",
       "// Licensed under the Apache License, Version 2.0 (the \"License\");\n",
       "// you may not use this file except in compliance with the License.\n",
       "// You may obtain a copy of the License at\n",
       "//\n",
       "//      http://www.apache.org/licenses/LICENSE-2.0\n",
       "//\n",
       "// Unless required by applicable law or agreed to in writing, software\n",
       "// distributed under the License is distributed on an \"AS IS\" BASIS,\n",
       "// WITHOUT WARRANTIES OR CONDITIONS OF ANY KIND, either express or implied.\n",
       "// See the License for the specific language governing permissions and\n",
       "// limitations under the License.\n",
       "\n",
       "/**\n",
       " * @fileoverview Helpers for google.colab Python module.\n",
       " */\n",
       "(function(scope) {\n",
       "function span(text, styleAttributes = {}) {\n",
       "  const element = document.createElement('span');\n",
       "  element.textContent = text;\n",
       "  for (const key of Object.keys(styleAttributes)) {\n",
       "    element.style[key] = styleAttributes[key];\n",
       "  }\n",
       "  return element;\n",
       "}\n",
       "\n",
       "// Max number of bytes which will be uploaded at a time.\n",
       "const MAX_PAYLOAD_SIZE = 100 * 1024;\n",
       "\n",
       "function _uploadFiles(inputId, outputId) {\n",
       "  const steps = uploadFilesStep(inputId, outputId);\n",
       "  const outputElement = document.getElementById(outputId);\n",
       "  // Cache steps on the outputElement to make it available for the next call\n",
       "  // to uploadFilesContinue from Python.\n",
       "  outputElement.steps = steps;\n",
       "\n",
       "  return _uploadFilesContinue(outputId);\n",
       "}\n",
       "\n",
       "// This is roughly an async generator (not supported in the browser yet),\n",
       "// where there are multiple asynchronous steps and the Python side is going\n",
       "// to poll for completion of each step.\n",
       "// This uses a Promise to block the python side on completion of each step,\n",
       "// then passes the result of the previous step as the input to the next step.\n",
       "function _uploadFilesContinue(outputId) {\n",
       "  const outputElement = document.getElementById(outputId);\n",
       "  const steps = outputElement.steps;\n",
       "\n",
       "  const next = steps.next(outputElement.lastPromiseValue);\n",
       "  return Promise.resolve(next.value.promise).then((value) => {\n",
       "    // Cache the last promise value to make it available to the next\n",
       "    // step of the generator.\n",
       "    outputElement.lastPromiseValue = value;\n",
       "    return next.value.response;\n",
       "  });\n",
       "}\n",
       "\n",
       "/**\n",
       " * Generator function which is called between each async step of the upload\n",
       " * process.\n",
       " * @param {string} inputId Element ID of the input file picker element.\n",
       " * @param {string} outputId Element ID of the output display.\n",
       " * @return {!Iterable<!Object>} Iterable of next steps.\n",
       " */\n",
       "function* uploadFilesStep(inputId, outputId) {\n",
       "  const inputElement = document.getElementById(inputId);\n",
       "  inputElement.disabled = false;\n",
       "\n",
       "  const outputElement = document.getElementById(outputId);\n",
       "  outputElement.innerHTML = '';\n",
       "\n",
       "  const pickedPromise = new Promise((resolve) => {\n",
       "    inputElement.addEventListener('change', (e) => {\n",
       "      resolve(e.target.files);\n",
       "    });\n",
       "  });\n",
       "\n",
       "  const cancel = document.createElement('button');\n",
       "  inputElement.parentElement.appendChild(cancel);\n",
       "  cancel.textContent = 'Cancel upload';\n",
       "  const cancelPromise = new Promise((resolve) => {\n",
       "    cancel.onclick = () => {\n",
       "      resolve(null);\n",
       "    };\n",
       "  });\n",
       "\n",
       "  // Wait for the user to pick the files.\n",
       "  const files = yield {\n",
       "    promise: Promise.race([pickedPromise, cancelPromise]),\n",
       "    response: {\n",
       "      action: 'starting',\n",
       "    }\n",
       "  };\n",
       "\n",
       "  cancel.remove();\n",
       "\n",
       "  // Disable the input element since further picks are not allowed.\n",
       "  inputElement.disabled = true;\n",
       "\n",
       "  if (!files) {\n",
       "    return {\n",
       "      response: {\n",
       "        action: 'complete',\n",
       "      }\n",
       "    };\n",
       "  }\n",
       "\n",
       "  for (const file of files) {\n",
       "    const li = document.createElement('li');\n",
       "    li.append(span(file.name, {fontWeight: 'bold'}));\n",
       "    li.append(span(\n",
       "        `(${file.type || 'n/a'}) - ${file.size} bytes, ` +\n",
       "        `last modified: ${\n",
       "            file.lastModifiedDate ? file.lastModifiedDate.toLocaleDateString() :\n",
       "                                    'n/a'} - `));\n",
       "    const percent = span('0% done');\n",
       "    li.appendChild(percent);\n",
       "\n",
       "    outputElement.appendChild(li);\n",
       "\n",
       "    const fileDataPromise = new Promise((resolve) => {\n",
       "      const reader = new FileReader();\n",
       "      reader.onload = (e) => {\n",
       "        resolve(e.target.result);\n",
       "      };\n",
       "      reader.readAsArrayBuffer(file);\n",
       "    });\n",
       "    // Wait for the data to be ready.\n",
       "    let fileData = yield {\n",
       "      promise: fileDataPromise,\n",
       "      response: {\n",
       "        action: 'continue',\n",
       "      }\n",
       "    };\n",
       "\n",
       "    // Use a chunked sending to avoid message size limits. See b/62115660.\n",
       "    let position = 0;\n",
       "    do {\n",
       "      const length = Math.min(fileData.byteLength - position, MAX_PAYLOAD_SIZE);\n",
       "      const chunk = new Uint8Array(fileData, position, length);\n",
       "      position += length;\n",
       "\n",
       "      const base64 = btoa(String.fromCharCode.apply(null, chunk));\n",
       "      yield {\n",
       "        response: {\n",
       "          action: 'append',\n",
       "          file: file.name,\n",
       "          data: base64,\n",
       "        },\n",
       "      };\n",
       "\n",
       "      let percentDone = fileData.byteLength === 0 ?\n",
       "          100 :\n",
       "          Math.round((position / fileData.byteLength) * 100);\n",
       "      percent.textContent = `${percentDone}% done`;\n",
       "\n",
       "    } while (position < fileData.byteLength);\n",
       "  }\n",
       "\n",
       "  // All done.\n",
       "  yield {\n",
       "    response: {\n",
       "      action: 'complete',\n",
       "    }\n",
       "  };\n",
       "}\n",
       "\n",
       "scope.google = scope.google || {};\n",
       "scope.google.colab = scope.google.colab || {};\n",
       "scope.google.colab._files = {\n",
       "  _uploadFiles,\n",
       "  _uploadFilesContinue,\n",
       "};\n",
       "})(self);\n",
       "</script> "
      ],
      "text/plain": [
       "<IPython.core.display.HTML object>"
      ]
     },
     "metadata": {},
     "output_type": "display_data"
    },
    {
     "name": "stdout",
     "output_type": "stream",
     "text": [
      "Saving kaggle.json to kaggle.json\n",
      "Dataset URL: https://www.kaggle.com/datasets/tinkukalluri/zalando-hd-resized\n",
      "License(s): MIT\n",
      "Downloading zalando-hd-resized.zip to /content/pytorch-openpose\n",
      "100% 4.54G/4.54G [04:05<00:00, 22.8MB/s]\n",
      "100% 4.54G/4.54G [04:05<00:00, 19.8MB/s]\n"
     ]
    }
   ],
   "source": [
    "files.upload() #NOTE: a proprietary Kaggle API Key is to be uploaded here\n",
    "\n",
    "!pip install -q kaggle\n",
    "!mkdir -p ~/.kaggle\n",
    "!cp kaggle.json ~/.kaggle/\n",
    "!chmod 600 ~/.kaggle/kaggle.json\n",
    "\n",
    "!kaggle datasets download -d tinkukalluri/zalando-hd-resized"
   ]
  },
  {
   "cell_type": "code",
   "execution_count": 7,
   "metadata": {
    "colab": {
     "base_uri": "https://localhost:8080/"
    },
    "executionInfo": {
     "elapsed": 4224,
     "status": "ok",
     "timestamp": 1739608981759,
     "user": {
      "displayName": "Giovanni Vitali",
      "userId": "04192528405390917138"
     },
     "user_tz": -60
    },
    "id": "1UANfnYGbfnr",
    "outputId": "5fdb125c-5bf6-48f7-ce54-7e1637ba79f0"
   },
   "outputs": [
    {
     "name": "stdout",
     "output_type": "stream",
     "text": [
      "Images ok\n",
      "Pose imgs ok\n",
      "json files ok\n"
     ]
    }
   ],
   "source": [
    "# Paths\n",
    "zip_path = '/content/pytorch-openpose/zalando-hd-resized.zip'\n",
    "images_dest = '/content/pytorch-openpose/datasets/VITONHD/image'\n",
    "pose_dest = '/content/pytorch-openpose/datasets/VITONHD/openpose_img'\n",
    "json_dest = '/content/pytorch-openpose/datasets/VITONHD/openpose_json'\n",
    "\n",
    "os.makedirs(images_dest, exist_ok=True)\n",
    "os.makedirs(pose_dest, exist_ok=True)\n",
    "os.makedirs(json_dest, exist_ok=True)\n",
    "\n",
    "# Open zip file\n",
    "with zipfile.ZipFile(zip_path, 'r') as zip_ref:\n",
    "    for file in zip_ref.namelist():\n",
    "        # Getting images\n",
    "        if file.startswith('test/image/') and (file.endswith('.jpg') or file.endswith('.png')):\n",
    "            dest_file = os.path.join(images_dest, os.path.basename(file))\n",
    "            with zip_ref.open(file) as source, open(dest_file, 'wb') as target:\n",
    "                shutil.copyfileobj(source, target)\n",
    "\n",
    "        # getting original pose image files\n",
    "        elif file.startswith('test/openpose_img/') and (file.endswith('.jpg') or file.endswith('.png')):\n",
    "            dest_file = os.path.join(pose_dest, os.path.basename(file))\n",
    "            with zip_ref.open(file) as source, open(dest_file, 'wb') as target:\n",
    "                shutil.copyfileobj(source, target)\n",
    "\n",
    "        # getting original JSON files\n",
    "        elif file.startswith('test/openpose_json/') and file.endswith('.json'):\n",
    "            # Costruisci il percorso di destinazione\n",
    "            dest_file = os.path.join(json_dest, os.path.basename(file))\n",
    "            with zip_ref.open(file) as source, open(dest_file, 'wb') as target:\n",
    "                shutil.copyfileobj(source, target)\n",
    "\n",
    "print(\"Images ok\")\n",
    "print(\"Pose imgs ok\")\n",
    "print(\"json files ok\")"
   ]
  },
  {
   "cell_type": "markdown",
   "metadata": {
    "id": "KPObCdQSbfnr"
   },
   "source": [
    "## Utilities\n",
    "This section includes helper functions for data handling, visualization, and model utilities. With this function we modify and provide essential tools for preprocessing and postprocessing. In particular, we edited or designed functions to compute: bounding boxes and compute OpenPose model for hands is defined, json convertion function to write the final JSON file, and functions to draw the pose including hands. "
   ]
  },
  {
   "cell_type": "code",
   "execution_count": 8,
   "metadata": {
    "executionInfo": {
     "elapsed": 985,
     "status": "ok",
     "timestamp": 1739608985337,
     "user": {
      "displayName": "Giovanni Vitali",
      "userId": "04192528405390917138"
     },
     "user_tz": -60
    },
    "id": "HvU1ttQqbfnr"
   },
   "outputs": [],
   "source": [
    "def get_bounding_boxes(candidate, subset, oriImg):\n",
    "  ratioWristElbow = 0.33\n",
    "  detect_result = []\n",
    "  image_height = oriImg.shape[0]\n",
    "  image_width = oriImg.shape[1]\n",
    "  for person in subset.astype(int):\n",
    "      has_left = np.sum(person[[5, 6, 7]] == -1) == 0\n",
    "      has_right = np.sum(person[[2, 3, 4]] == -1) == 0\n",
    "      if not (has_left or has_right):\n",
    "          continue\n",
    "      # if any of three not detected\n",
    "      if has_left:\n",
    "          left_shoulder_index, left_elbow_index, left_wrist_index = person[[5, 6, 7]]\n",
    "          # pos_hand = pos_wrist + ratio * (pos_wrist - pos_elbox) = (1 + ratio) * pos_wrist - ratio * pos_elbox\n",
    "          # handRectangle.x = posePtr[wrist*3] + ratioWristElbow * (posePtr[wrist*3] - posePtr[elbow*3]);\n",
    "          # handRectangle.y = posePtr[wrist*3+1] + ratioWristElbow * (posePtr[wrist*3+1] - posePtr[elbow*3+1]);\n",
    "          # const auto distanceWristElbow = getDistance(poseKeypoints, person, wrist, elbow);\n",
    "          # const auto distanceElbowShoulder = getDistance(poseKeypoints, person, elbow, shoulder);\n",
    "          # handRectangle.width = 1.5f * fastMax(distanceWristElbow, 0.9f * distanceElbowShoulder);\n",
    "          x1, y1 = candidate[left_shoulder_index][:2]\n",
    "          x2, y2 = candidate[left_elbow_index][:2]\n",
    "          x3, y3 = candidate[left_wrist_index][:2]\n",
    "\n",
    "          # cv2.line(canvas, (int(x2), int(y2)), (int(x3), int(y3)), colors[0], thickness=4)\n",
    "          # cv2.line(canvas, (int(x2), int(y2)), (int(x1), int(y1)), colors[1], thickness=4)\n",
    "\n",
    "          # cv2.circle(canvas, (int(x1), int(y1)), 4, colors[2], thickness=-1)\n",
    "          # cv2.circle(canvas, (int(x2), int(y2)), 4, colors[3], thickness=-1)\n",
    "          # cv2.circle(canvas, (int(x3), int(y3)), 4, colors[4], thickness=-1)\n",
    "\n",
    "          x = x3 + ratioWristElbow*(x3-x2)\n",
    "          y = y3 + ratioWristElbow*(y3-y2)\n",
    "          distanceWristElbow = math.sqrt((x3-x2)**2+(y3-y2)**2)\n",
    "          distanceElbowShoulder = math.sqrt((x2-x1)**2+(y2-y1)**2)\n",
    "          width = 1.5*max(distanceWristElbow, 0.9*distanceElbowShoulder)\n",
    "          # x-y refers to the center --> offset to topLeft point\n",
    "          # handRectangle.x -= handRectangle.width / 2.f;\n",
    "          # handRectangle.y -= handRectangle.height / 2.f;\n",
    "          x -= width/2\n",
    "          y -= width/2 # width = height\n",
    "          is_left = True\n",
    "          if x<0: x=0\n",
    "          if y<0: y=0\n",
    "          width1 = width\n",
    "          width2 = width\n",
    "          if x+width>image_width: width1=image_width-x\n",
    "          if y+width>image_height: width2=image_height-y\n",
    "          width = min(width1, width2)\n",
    "          # detect_result.append([int(x), int(y), int(width), is_left])\n",
    "          detect_result.append([int(x), int(y), int(x+width), int(y+width)])\n",
    "\n",
    "      # right hand\n",
    "      if has_right:\n",
    "          right_shoulder_index, right_elbow_index, right_wrist_index = person[[2, 3, 4]]\n",
    "          x1, y1 = candidate[right_shoulder_index][:2]\n",
    "          x2, y2 = candidate[right_elbow_index][:2]\n",
    "          x3, y3 = candidate[right_wrist_index][:2]\n",
    "\n",
    "          # cv2.line(canvas, (int(x2), int(y2)), (int(x3), int(y3)), colors[2], thickness=4)\n",
    "          # cv2.line(canvas, (int(x2), int(y2)), (int(x1), int(y1)), colors[3], thickness=4)\n",
    "\n",
    "          # cv2.circle(canvas, (int(x1), int(y1)), 4, colors[2], thickness=-1)\n",
    "          # cv2.circle(canvas, (int(x2), int(y2)), 4, colors[3], thickness=-1)\n",
    "          # cv2.circle(canvas, (int(x3), int(y3)), 4, colors[4], thickness=-1)\n",
    "\n",
    "          x = x3 + ratioWristElbow*(x3-x2)\n",
    "          y = y3 + ratioWristElbow*(y3-y2)\n",
    "          distanceWristElbow = math.sqrt((x3-x2)**2+(y3-y2)**2)\n",
    "          distanceElbowShoulder = math.sqrt((x2-x1)**2+(y2-y1)**2)\n",
    "          width = 1.5*max(distanceWristElbow, 0.9*distanceElbowShoulder)\n",
    "          x -= width/2\n",
    "          y -= width/2 # width = height\n",
    "          is_left = False\n",
    "          if x<0: x=0\n",
    "          if y<0: y=0\n",
    "          width1 = width\n",
    "          width2 = width\n",
    "          if x+width>image_width: width1=image_width-x\n",
    "          if y+width>image_height: width2=image_height-y\n",
    "          width = min(width1, width2)\n",
    "          # detect_result.append([int(x), int(y), int(width), is_left])\n",
    "          detect_result.append([int(x), int(y), int(x+width), int(y+width)])\n",
    "\n",
    "  return detect_result\n"
   ]
  },
  {
   "cell_type": "code",
   "execution_count": 9,
   "metadata": {
    "executionInfo": {
     "elapsed": 4,
     "status": "ok",
     "timestamp": 1739609049505,
     "user": {
      "displayName": "Giovanni Vitali",
      "userId": "04192528405390917138"
     },
     "user_tz": -60
    },
    "id": "ZBktUBQybfnr"
   },
   "outputs": [],
   "source": [
    "def process_hand(image, bbox):\n",
    "    x1, y1, x2, y2 = bbox\n",
    "    hand_img = image[y1:y2, x1:x2].copy()\n",
    "\n",
    "    # Preprocessing\n",
    "    scale_search = [0.5, 1.0, 1.5, 2.0]\n",
    "    boxsize = 368\n",
    "    stride = 8\n",
    "    padValue = 128\n",
    "    thre = 0.05\n",
    "    multiplier = [x * boxsize / hand_img.shape[0] for x in scale_search]\n",
    "    heatmap_avg = np.zeros((hand_img.shape[0], hand_img.shape[1], 22))\n",
    "\n",
    "    for scale in multiplier:\n",
    "        img_resized = cv2.resize(hand_img, (0, 0), fx=scale, fy=scale, interpolation=cv2.INTER_CUBIC)\n",
    "        img_padded, pad = util.padRightDownCorner(img_resized, stride, padValue)\n",
    "\n",
    "        img_input = np.transpose(np.float32(img_padded[:, :, :, np.newaxis]), (3, 2, 0, 1)) / 256 - 0.5\n",
    "        img_input = np.ascontiguousarray(img_input)\n",
    "\n",
    "        data = torch.from_numpy(img_input).float()\n",
    "        if torch.cuda.is_available():\n",
    "            data = data.cuda()\n",
    "            model.cuda()\n",
    "\n",
    "        with torch.no_grad():\n",
    "            output = model(data).cpu().numpy()\n",
    "\n",
    "        heatmap = np.transpose(np.squeeze(output), (1, 2, 0))\n",
    "        heatmap = cv2.resize(heatmap, (hand_img.shape[1], hand_img.shape[0]), interpolation=cv2.INTER_CUBIC)\n",
    "        heatmap_avg += heatmap / len(multiplier)\n",
    "\n",
    "    # Estrazione dei keypoints\n",
    "    keypoints = []\n",
    "    for i in range(heatmap_avg.shape[2]):\n",
    "        map_ori = heatmap_avg[:, :, i]\n",
    "        map_smoothed = gaussian_filter(map_ori, sigma=3)\n",
    "        y, x = np.unravel_index(np.argmax(map_smoothed), map_smoothed.shape)\n",
    "        confidence = map_smoothed[y, x]\n",
    "        if confidence > thre:\n",
    "            keypoints.append((x + x1, y + y1, confidence))  # Riporta alle coordinate originali\n",
    "    return keypoints"
   ]
  },
  {
   "cell_type": "code",
   "execution_count": 10,
   "metadata": {
    "executionInfo": {
     "elapsed": 1,
     "status": "ok",
     "timestamp": 1739609049951,
     "user": {
      "displayName": "Giovanni Vitali",
      "userId": "04192528405390917138"
     },
     "user_tz": -60
    },
    "id": "lYXUDMy8bfns"
   },
   "outputs": [],
   "source": [
    "def convert_to_json(candidate, subset, all_hand_keypoints, output_file):\n",
    "    people = []\n",
    "\n",
    "    for person in subset:\n",
    "        pose_keypoints_2d = []\n",
    "\n",
    "        # Body keypoints extraction\n",
    "        for i in range(18):  # OpenPose with 18 keypoints\n",
    "            index = int(person[i])\n",
    "            if index == -1:\n",
    "                pose_keypoints_2d.extend([0, 0, 0])  # placeholders\n",
    "            else:\n",
    "                x, y, score = candidate[index][:3]\n",
    "                pose_keypoints_2d.extend([x, y, score])\n",
    "\n",
    "        # Compatibility modification\n",
    "        right_hip_idx = (24, 25, 26)\n",
    "        left_hip_idx = (33, 34, 35)\n",
    "        if pose_keypoints_2d[right_hip_idx[0]]!=0 or pose_keypoints_2d[right_hip_idx[1]]!=0:\n",
    "            if pose_keypoints_2d[left_hip_idx[0]]!=0 and pose_keypoints_2d[left_hip_idx[1]]!=0:\n",
    "                mid_hip_x = (pose_keypoints_2d[right_hip_idx[0]] + pose_keypoints_2d[left_hip_idx[0]]) / 2\n",
    "                mid_hip_y = (pose_keypoints_2d[right_hip_idx[1]] + pose_keypoints_2d[left_hip_idx[1]]) / 2\n",
    "                mid_hip_conf = (pose_keypoints_2d[right_hip_idx[2]] + pose_keypoints_2d[left_hip_idx[2]]) / 2\n",
    "                pose_keypoints_2d.insert(24, mid_hip_x)\n",
    "                pose_keypoints_2d.insert(25, mid_hip_y)\n",
    "                pose_keypoints_2d.insert(26, mid_hip_conf)\n",
    "\n",
    "        for i in range(6):\n",
    "          pose_keypoints_2d.extend([0, 0, 0])\n",
    "\n",
    "        hand_left_keypoints_2d = []\n",
    "        hand_right_keypoints_2d = []\n",
    "\n",
    "        if all_hand_keypoints is not None:\n",
    "            # Hand keypoints check\n",
    "            for idx, hand in enumerate(all_hand_keypoints):\n",
    "              if idx==0 and len(hand)>0:\n",
    "                hand_left_keypoints_2d = [[int(x), int(y), float(conf)] for x, y, conf in hand]\n",
    "                if person[7]!=-1: #if left wrist is present\n",
    "                    hand_left_keypoints_2d[0] = [pose_keypoints_2d[21], pose_keypoints_2d[22], pose_keypoints_2d[23]]\n",
    "              else:\n",
    "                if len(hand)>0:\n",
    "                  hand_right_keypoints_2d = [[int(x), int(y), float(conf)] for x, y, conf in hand]\n",
    "                  if person[4]!=-1: #if right wrist is present\n",
    "                      hand_right_keypoints_2d[0] = [pose_keypoints_2d[12], pose_keypoints_2d[13], pose_keypoints_2d[14]]\n",
    "\n",
    "\n",
    "        # gathering data\n",
    "        person_data = {\n",
    "            \"person_id\": [-1],  # Placeholder\n",
    "            \"pose_keypoints_2d\": pose_keypoints_2d,\n",
    "            \"face_keypoints_2d\": [],  # Empty\n",
    "            \"hand_left_keypoints_2d\": hand_left_keypoints_2d,\n",
    "            \"hand_right_keypoints_2d\": hand_right_keypoints_2d,\n",
    "        }\n",
    "\n",
    "        people.append(person_data)\n",
    "\n",
    "    data = {\n",
    "        \"version\": 1.3,\n",
    "        \"people\": people\n",
    "    }\n",
    "\n",
    "    with open(output_file, \"w\") as f:\n",
    "        json.dump(data, f, indent=4)"
   ]
  },
  {
   "cell_type": "code",
   "execution_count": 11,
   "metadata": {
    "executionInfo": {
     "elapsed": 2,
     "status": "ok",
     "timestamp": 1739609052470,
     "user": {
      "displayName": "Giovanni Vitali",
      "userId": "04192528405390917138"
     },
     "user_tz": -60
    },
    "id": "vI-oXx0pbfns"
   },
   "outputs": [],
   "source": [
    "def extract_keypoints(data):\n",
    "    person = data[\"people\"][0]  # We assume just one person as VITONHD dataset\n",
    "    pose_keypoints = np.array(person[\"pose_keypoints_2d\"]).reshape(-1, 3)  # (x, y, conf)\n",
    "    left_hand_keypoints = np.array(person[\"hand_left_keypoints_2d\"])\n",
    "    right_hand_keypoints = np.array(person[\"hand_right_keypoints_2d\"])\n",
    "\n",
    "    return pose_keypoints, left_hand_keypoints, right_hand_keypoints"
   ]
  },
  {
   "cell_type": "code",
   "execution_count": 12,
   "metadata": {
    "executionInfo": {
     "elapsed": 2,
     "status": "ok",
     "timestamp": 1739609054567,
     "user": {
      "displayName": "Giovanni Vitali",
      "userId": "04192528405390917138"
     },
     "user_tz": -60
    },
    "id": "btNR1Kegbfns"
   },
   "outputs": [],
   "source": [
    "limbSeq_body25 = [\n",
    "    [1, 8], [1, 2], [1, 5], [2, 3], [3, 4], [5, 6], [6, 7],\n",
    "    [8, 9], [9, 10], [10, 11], [8, 12], [12, 13], [13, 14],\n",
    "    [1, 0], [0, 15], [15, 17], [0, 16], [16, 18],\n",
    "    [11, 24], [14, 21], [8, 24], [8, 21]\n",
    "]\n",
    "\n",
    "limbSeq_hand = [\n",
    "    [0, 1], [1, 2], [2, 3], [3, 4], # Thumb\n",
    "    [0, 5], [5, 6], [6, 7], [7, 8], # Index\n",
    "    [0, 9], [9, 10], [10, 11], [11, 12], # Middle\n",
    "    [0, 13], [13, 14], [14, 15], [15, 16], # Ring\n",
    "    [0, 17], [17, 18], [18, 19], [19, 20] # Pinky\n",
    "]"
   ]
  },
  {
   "cell_type": "code",
   "execution_count": 13,
   "metadata": {
    "executionInfo": {
     "elapsed": 2,
     "status": "ok",
     "timestamp": 1739609054996,
     "user": {
      "displayName": "Giovanni Vitali",
      "userId": "04192528405390917138"
     },
     "user_tz": -60
    },
    "id": "FJl77e8vbfns"
   },
   "outputs": [],
   "source": [
    "custom_colors = {\n",
    "    0: (0, 0, 255),      # Corpo, connessione [1,8] (red)\n",
    "    1: (0, 140, 255),    # Corpo, connessione [1,2] (darkorange)\n",
    "    2: (0, 255, 127),    # Corpo, connessione [1,5] (chartreuse)\n",
    "    3: (0, 165, 255),    # Corpo, connessione [2,3] (light orange)\n",
    "    4: (0, 255, 255),    # Corpo, connessione [3,4] (yellow)\n",
    "    5: (0, 255, 0),      # Corpo, connessione [5,6] (lime)\n",
    "    6: (0, 255, 0),      # Corpo, connessione [6,7] (lime)\n",
    "    7: (0, 255, 0),      # Corpo, connessione [8,9] (lime)\n",
    "    8: (113, 179, 60),   # Corpo, connessione [9,10] (mediumspringgreen)\n",
    "    9: (204, 209, 72),   # Corpo, connessione [10,11] (mediumturquoise)\n",
    "    10: (255, 144, 30),  # Corpo, connessione [8,12] (dodgerblue)\n",
    "    11: (205, 0, 0),     # Corpo, connessione [12,13] (mediumblue)\n",
    "    12: (255, 0, 0),     # Corpo, connessione [13,14] (blue)\n",
    "    13: (60, 60, 220),   # Corpo, connessione [1,0] (crimson)\n",
    "    14: (147, 20, 255),  # Corpo, connessione [0,15] (deeppink)\n",
    "    15: (255, 0, 255),   # Corpo, connessione [15,17] (magenta)\n",
    "    16: (204, 50, 153),  # Corpo, connessione [0,16] (darkorchid)\n",
    "    17: (255, 0, 0),     # Corpo, connessione [16,18] (blue)\n",
    "    18: (204, 209, 72),  # Corpo, connessione [11,24] (mediumturquoise)\n",
    "    19: (255, 0, 0),     # Corpo, connessione [14,21] (blue)\n",
    "    20: (255, 144, 30),  # Corpo, connessione [8,24] (dodgerblue)\n",
    "    21: (255, 144, 30),  # Corpo, connessione [8,21] (dodgerblue)\n",
    "}"
   ]
  },
  {
   "cell_type": "code",
   "execution_count": 14,
   "metadata": {
    "executionInfo": {
     "elapsed": 2,
     "status": "ok",
     "timestamp": 1739609056757,
     "user": {
      "displayName": "Giovanni Vitali",
      "userId": "04192528405390917138"
     },
     "user_tz": -60
    },
    "id": "uuLyvS1Hbfns"
   },
   "outputs": [],
   "source": [
    "def draw_pose_ellipses(img, keypoints, limbSeq, is_hand=False, alpha_keypoints=0.6, alpha_hands=0.6, thickness=-1):\n",
    "\n",
    "    num_edges = len(limbSeq)\n",
    "    overlay_hands = img.copy()  # Hand Overlay\n",
    "    overlay_keypoints = img.copy()  # Keypoints overlay\n",
    "\n",
    "    # keypoint colour dictionary\n",
    "    keypoint_colors = {}\n",
    "\n",
    "    for i, (start, end) in enumerate(limbSeq):\n",
    "      if (len(keypoints)-1)>=start and (len(keypoints)-1)>=end:\n",
    "        if keypoints[start][2] > 0.1 and keypoints[end][2] > 0.1:\n",
    "            x1, y1 = int(keypoints[start][0]), int(keypoints[start][1])\n",
    "            x2, y2 = int(keypoints[end][0]), int(keypoints[end][1])\n",
    "\n",
    "            center = ((x1 + x2) // 2, (y1 + y2) // 2)\n",
    "            length = int(np.hypot(x2 - x1, y2 - y1) / 2)\n",
    "            angle = np.degrees(np.arctan2(y2 - y1, x2 - x1))\n",
    "\n",
    "            color = custom_colors.get(i, (255, 255, 255))\n",
    "\n",
    "            # Ellipses\n",
    "            axes = (length, 5)\n",
    "            if is_hand:\n",
    "                cv2.ellipse(overlay_hands, center, axes, angle, 0, 360, color, thickness)\n",
    "            else:\n",
    "                cv2.ellipse(img, center, axes, angle, 0, 360, color, thickness)\n",
    "\n",
    "            # keypoints colour start and end\n",
    "            keypoint_colors[start] = color\n",
    "            keypoint_colors[end] = color\n",
    "\n",
    "    # Draw keypoints\n",
    "    for i, (x, y, conf) in enumerate(keypoints):\n",
    "        if conf > 0.1 and i in keypoint_colors:\n",
    "            cv2.circle(overlay_keypoints, (int(x), int(y)), 6, keypoint_colors[i], -1)\n",
    "\n",
    "    # Keypoints alpha\n",
    "    cv2.addWeighted(overlay_keypoints, alpha_keypoints, img, 1 - alpha_keypoints, 0, img)\n",
    "\n",
    "    # Alpha for hands, not body\n",
    "    if is_hand:\n",
    "        cv2.addWeighted(overlay_hands, alpha_hands, img, 1 - alpha_hands, 0, img)\n",
    "\n",
    "    return img"
   ]
  },
  {
   "cell_type": "code",
   "execution_count": 15,
   "metadata": {
    "executionInfo": {
     "elapsed": 1,
     "status": "ok",
     "timestamp": 1739609057880,
     "user": {
      "displayName": "Giovanni Vitali",
      "userId": "04192528405390917138"
     },
     "user_tz": -60
    },
    "id": "5ydsvAz9bfns"
   },
   "outputs": [],
   "source": [
    "def plot_pose(json_path):\n",
    "    with open(json_path, \"r\") as f:\n",
    "        data = json.load(f)\n",
    "\n",
    "    img = np.zeros((1024, 768, 3), dtype=np.uint8)  # Sfondo nero\n",
    "    pose_kp, left_hand_kp, right_hand_kp = extract_keypoints(data)\n",
    "\n",
    "    # Corpo (senza trasparenza nei segmenti)\n",
    "    draw_pose_ellipses(img, pose_kp, limbSeq_body25, alpha_keypoints=0.6, alpha_hands=0.6, thickness=-1)\n",
    "\n",
    "    # Mani (con trasparenza nei segmenti)\n",
    "    if len(left_hand_kp) > 0:\n",
    "        draw_pose_ellipses(img, left_hand_kp, limbSeq_hand, is_hand=True, alpha_keypoints=0.6, alpha_hands=0.4, thickness=-1)\n",
    "    if len(right_hand_kp) > 0:\n",
    "        draw_pose_ellipses(img, right_hand_kp, limbSeq_hand, is_hand=True, alpha_keypoints=0.6, alpha_hands=0.4, thickness=-1)\n",
    "\n",
    "    cv2_imshow(img)"
   ]
  },
  {
   "cell_type": "markdown",
   "metadata": {
    "id": "Mkw96ocubfns"
   },
   "source": [
    "# Pose Estimation"
   ]
  },
  {
   "cell_type": "code",
   "execution_count": 16,
   "metadata": {
    "colab": {
     "base_uri": "https://localhost:8080/"
    },
    "executionInfo": {
     "elapsed": 3407,
     "status": "ok",
     "timestamp": 1739609064340,
     "user": {
      "displayName": "Giovanni Vitali",
      "userId": "04192528405390917138"
     },
     "user_tz": -60
    },
    "id": "Gm3dhdy7bfns",
    "outputId": "4783daf7-4f31-429c-f504-07dee6919aef"
   },
   "outputs": [
    {
     "name": "stderr",
     "output_type": "stream",
     "text": [
      "/content/pytorch-openpose/src/body.py:19: FutureWarning: You are using `torch.load` with `weights_only=False` (the current default value), which uses the default pickle module implicitly. It is possible to construct malicious pickle data which will execute arbitrary code during unpickling (See https://github.com/pytorch/pytorch/blob/main/SECURITY.md#untrusted-models for more details). In a future release, the default value for `weights_only` will be flipped to `True`. This limits the functions that could be executed during unpickling. Arbitrary objects will no longer be allowed to be loaded via this mode unless they are explicitly allowlisted by the user via `torch.serialization.add_safe_globals`. We recommend you start setting `weights_only=True` for any use case where you don't have full control of the loaded file. Please open an issue on GitHub for any issues related to this experimental feature.\n",
      "  model_dict = util.transfer(self.model, torch.load(model_path))\n",
      "<ipython-input-16-f8d985b5a034>:5: FutureWarning: You are using `torch.load` with `weights_only=False` (the current default value), which uses the default pickle module implicitly. It is possible to construct malicious pickle data which will execute arbitrary code during unpickling (See https://github.com/pytorch/pytorch/blob/main/SECURITY.md#untrusted-models for more details). In a future release, the default value for `weights_only` will be flipped to `True`. This limits the functions that could be executed during unpickling. Arbitrary objects will no longer be allowed to be loaded via this mode unless they are explicitly allowlisted by the user via `torch.serialization.add_safe_globals`. We recommend you start setting `weights_only=True` for any use case where you don't have full control of the loaded file. Please open an issue on GitHub for any issues related to this experimental feature.\n",
      "  model_dict = torch.load('model/hand_pose_model.pth')\n"
     ]
    },
    {
     "data": {
      "text/plain": [
       "handpose_model(\n",
       "  (model1_0): Sequential(\n",
       "    (conv1_1): Conv2d(3, 64, kernel_size=(3, 3), stride=(1, 1), padding=(1, 1))\n",
       "    (relu_conv1_1): ReLU(inplace=True)\n",
       "    (conv1_2): Conv2d(64, 64, kernel_size=(3, 3), stride=(1, 1), padding=(1, 1))\n",
       "    (relu_conv1_2): ReLU(inplace=True)\n",
       "    (pool1_stage1): MaxPool2d(kernel_size=2, stride=2, padding=0, dilation=1, ceil_mode=False)\n",
       "    (conv2_1): Conv2d(64, 128, kernel_size=(3, 3), stride=(1, 1), padding=(1, 1))\n",
       "    (relu_conv2_1): ReLU(inplace=True)\n",
       "    (conv2_2): Conv2d(128, 128, kernel_size=(3, 3), stride=(1, 1), padding=(1, 1))\n",
       "    (relu_conv2_2): ReLU(inplace=True)\n",
       "    (pool2_stage1): MaxPool2d(kernel_size=2, stride=2, padding=0, dilation=1, ceil_mode=False)\n",
       "    (conv3_1): Conv2d(128, 256, kernel_size=(3, 3), stride=(1, 1), padding=(1, 1))\n",
       "    (relu_conv3_1): ReLU(inplace=True)\n",
       "    (conv3_2): Conv2d(256, 256, kernel_size=(3, 3), stride=(1, 1), padding=(1, 1))\n",
       "    (relu_conv3_2): ReLU(inplace=True)\n",
       "    (conv3_3): Conv2d(256, 256, kernel_size=(3, 3), stride=(1, 1), padding=(1, 1))\n",
       "    (relu_conv3_3): ReLU(inplace=True)\n",
       "    (conv3_4): Conv2d(256, 256, kernel_size=(3, 3), stride=(1, 1), padding=(1, 1))\n",
       "    (relu_conv3_4): ReLU(inplace=True)\n",
       "    (pool3_stage1): MaxPool2d(kernel_size=2, stride=2, padding=0, dilation=1, ceil_mode=False)\n",
       "    (conv4_1): Conv2d(256, 512, kernel_size=(3, 3), stride=(1, 1), padding=(1, 1))\n",
       "    (relu_conv4_1): ReLU(inplace=True)\n",
       "    (conv4_2): Conv2d(512, 512, kernel_size=(3, 3), stride=(1, 1), padding=(1, 1))\n",
       "    (relu_conv4_2): ReLU(inplace=True)\n",
       "    (conv4_3): Conv2d(512, 512, kernel_size=(3, 3), stride=(1, 1), padding=(1, 1))\n",
       "    (relu_conv4_3): ReLU(inplace=True)\n",
       "    (conv4_4): Conv2d(512, 512, kernel_size=(3, 3), stride=(1, 1), padding=(1, 1))\n",
       "    (relu_conv4_4): ReLU(inplace=True)\n",
       "    (conv5_1): Conv2d(512, 512, kernel_size=(3, 3), stride=(1, 1), padding=(1, 1))\n",
       "    (relu_conv5_1): ReLU(inplace=True)\n",
       "    (conv5_2): Conv2d(512, 512, kernel_size=(3, 3), stride=(1, 1), padding=(1, 1))\n",
       "    (relu_conv5_2): ReLU(inplace=True)\n",
       "    (conv5_3_CPM): Conv2d(512, 128, kernel_size=(3, 3), stride=(1, 1), padding=(1, 1))\n",
       "    (relu_conv5_3_CPM): ReLU(inplace=True)\n",
       "  )\n",
       "  (model1_1): Sequential(\n",
       "    (conv6_1_CPM): Conv2d(128, 512, kernel_size=(1, 1), stride=(1, 1))\n",
       "    (relu_conv6_1_CPM): ReLU(inplace=True)\n",
       "    (conv6_2_CPM): Conv2d(512, 22, kernel_size=(1, 1), stride=(1, 1))\n",
       "  )\n",
       "  (model2): Sequential(\n",
       "    (Mconv1_stage2): Conv2d(150, 128, kernel_size=(7, 7), stride=(1, 1), padding=(3, 3))\n",
       "    (relu_Mconv1_stage2): ReLU(inplace=True)\n",
       "    (Mconv2_stage2): Conv2d(128, 128, kernel_size=(7, 7), stride=(1, 1), padding=(3, 3))\n",
       "    (relu_Mconv2_stage2): ReLU(inplace=True)\n",
       "    (Mconv3_stage2): Conv2d(128, 128, kernel_size=(7, 7), stride=(1, 1), padding=(3, 3))\n",
       "    (relu_Mconv3_stage2): ReLU(inplace=True)\n",
       "    (Mconv4_stage2): Conv2d(128, 128, kernel_size=(7, 7), stride=(1, 1), padding=(3, 3))\n",
       "    (relu_Mconv4_stage2): ReLU(inplace=True)\n",
       "    (Mconv5_stage2): Conv2d(128, 128, kernel_size=(7, 7), stride=(1, 1), padding=(3, 3))\n",
       "    (relu_Mconv5_stage2): ReLU(inplace=True)\n",
       "    (Mconv6_stage2): Conv2d(128, 128, kernel_size=(1, 1), stride=(1, 1))\n",
       "    (relu_Mconv6_stage2): ReLU(inplace=True)\n",
       "    (Mconv7_stage2): Conv2d(128, 22, kernel_size=(1, 1), stride=(1, 1))\n",
       "  )\n",
       "  (model3): Sequential(\n",
       "    (Mconv1_stage3): Conv2d(150, 128, kernel_size=(7, 7), stride=(1, 1), padding=(3, 3))\n",
       "    (relu_Mconv1_stage3): ReLU(inplace=True)\n",
       "    (Mconv2_stage3): Conv2d(128, 128, kernel_size=(7, 7), stride=(1, 1), padding=(3, 3))\n",
       "    (relu_Mconv2_stage3): ReLU(inplace=True)\n",
       "    (Mconv3_stage3): Conv2d(128, 128, kernel_size=(7, 7), stride=(1, 1), padding=(3, 3))\n",
       "    (relu_Mconv3_stage3): ReLU(inplace=True)\n",
       "    (Mconv4_stage3): Conv2d(128, 128, kernel_size=(7, 7), stride=(1, 1), padding=(3, 3))\n",
       "    (relu_Mconv4_stage3): ReLU(inplace=True)\n",
       "    (Mconv5_stage3): Conv2d(128, 128, kernel_size=(7, 7), stride=(1, 1), padding=(3, 3))\n",
       "    (relu_Mconv5_stage3): ReLU(inplace=True)\n",
       "    (Mconv6_stage3): Conv2d(128, 128, kernel_size=(1, 1), stride=(1, 1))\n",
       "    (relu_Mconv6_stage3): ReLU(inplace=True)\n",
       "    (Mconv7_stage3): Conv2d(128, 22, kernel_size=(1, 1), stride=(1, 1))\n",
       "  )\n",
       "  (model4): Sequential(\n",
       "    (Mconv1_stage4): Conv2d(150, 128, kernel_size=(7, 7), stride=(1, 1), padding=(3, 3))\n",
       "    (relu_Mconv1_stage4): ReLU(inplace=True)\n",
       "    (Mconv2_stage4): Conv2d(128, 128, kernel_size=(7, 7), stride=(1, 1), padding=(3, 3))\n",
       "    (relu_Mconv2_stage4): ReLU(inplace=True)\n",
       "    (Mconv3_stage4): Conv2d(128, 128, kernel_size=(7, 7), stride=(1, 1), padding=(3, 3))\n",
       "    (relu_Mconv3_stage4): ReLU(inplace=True)\n",
       "    (Mconv4_stage4): Conv2d(128, 128, kernel_size=(7, 7), stride=(1, 1), padding=(3, 3))\n",
       "    (relu_Mconv4_stage4): ReLU(inplace=True)\n",
       "    (Mconv5_stage4): Conv2d(128, 128, kernel_size=(7, 7), stride=(1, 1), padding=(3, 3))\n",
       "    (relu_Mconv5_stage4): ReLU(inplace=True)\n",
       "    (Mconv6_stage4): Conv2d(128, 128, kernel_size=(1, 1), stride=(1, 1))\n",
       "    (relu_Mconv6_stage4): ReLU(inplace=True)\n",
       "    (Mconv7_stage4): Conv2d(128, 22, kernel_size=(1, 1), stride=(1, 1))\n",
       "  )\n",
       "  (model5): Sequential(\n",
       "    (Mconv1_stage5): Conv2d(150, 128, kernel_size=(7, 7), stride=(1, 1), padding=(3, 3))\n",
       "    (relu_Mconv1_stage5): ReLU(inplace=True)\n",
       "    (Mconv2_stage5): Conv2d(128, 128, kernel_size=(7, 7), stride=(1, 1), padding=(3, 3))\n",
       "    (relu_Mconv2_stage5): ReLU(inplace=True)\n",
       "    (Mconv3_stage5): Conv2d(128, 128, kernel_size=(7, 7), stride=(1, 1), padding=(3, 3))\n",
       "    (relu_Mconv3_stage5): ReLU(inplace=True)\n",
       "    (Mconv4_stage5): Conv2d(128, 128, kernel_size=(7, 7), stride=(1, 1), padding=(3, 3))\n",
       "    (relu_Mconv4_stage5): ReLU(inplace=True)\n",
       "    (Mconv5_stage5): Conv2d(128, 128, kernel_size=(7, 7), stride=(1, 1), padding=(3, 3))\n",
       "    (relu_Mconv5_stage5): ReLU(inplace=True)\n",
       "    (Mconv6_stage5): Conv2d(128, 128, kernel_size=(1, 1), stride=(1, 1))\n",
       "    (relu_Mconv6_stage5): ReLU(inplace=True)\n",
       "    (Mconv7_stage5): Conv2d(128, 22, kernel_size=(1, 1), stride=(1, 1))\n",
       "  )\n",
       "  (model6): Sequential(\n",
       "    (Mconv1_stage6): Conv2d(150, 128, kernel_size=(7, 7), stride=(1, 1), padding=(3, 3))\n",
       "    (relu_Mconv1_stage6): ReLU(inplace=True)\n",
       "    (Mconv2_stage6): Conv2d(128, 128, kernel_size=(7, 7), stride=(1, 1), padding=(3, 3))\n",
       "    (relu_Mconv2_stage6): ReLU(inplace=True)\n",
       "    (Mconv3_stage6): Conv2d(128, 128, kernel_size=(7, 7), stride=(1, 1), padding=(3, 3))\n",
       "    (relu_Mconv3_stage6): ReLU(inplace=True)\n",
       "    (Mconv4_stage6): Conv2d(128, 128, kernel_size=(7, 7), stride=(1, 1), padding=(3, 3))\n",
       "    (relu_Mconv4_stage6): ReLU(inplace=True)\n",
       "    (Mconv5_stage6): Conv2d(128, 128, kernel_size=(7, 7), stride=(1, 1), padding=(3, 3))\n",
       "    (relu_Mconv5_stage6): ReLU(inplace=True)\n",
       "    (Mconv6_stage6): Conv2d(128, 128, kernel_size=(1, 1), stride=(1, 1))\n",
       "    (relu_Mconv6_stage6): ReLU(inplace=True)\n",
       "    (Mconv7_stage6): Conv2d(128, 22, kernel_size=(1, 1), stride=(1, 1))\n",
       "  )\n",
       ")"
      ]
     },
     "execution_count": 16,
     "metadata": {},
     "output_type": "execute_result"
    }
   ],
   "source": [
    "# Body model\n",
    "body_estimation = Body('model/body_pose_model.pth')\n",
    "# Hands model\n",
    "model = handpose_model()\n",
    "model_dict = torch.load('model/hand_pose_model.pth')\n",
    "model.load_state_dict(util.transfer(model, model_dict))\n",
    "model.eval()"
   ]
  },
  {
   "cell_type": "code",
   "execution_count": 17,
   "metadata": {
    "executionInfo": {
     "elapsed": 856,
     "status": "ok",
     "timestamp": 1739609080418,
     "user": {
      "displayName": "Giovanni Vitali",
      "userId": "04192528405390917138"
     },
     "user_tz": -60
    },
    "id": "9WCLl0yIbfnt"
   },
   "outputs": [],
   "source": [
    "dest_path = \"results/openpose_json\"\n",
    "os.makedirs(dest_path, exist_ok=True)"
   ]
  },
  {
   "cell_type": "code",
   "execution_count": 18,
   "metadata": {
    "executionInfo": {
     "elapsed": 529,
     "status": "ok",
     "timestamp": 1739609084841,
     "user": {
      "displayName": "Giovanni Vitali",
      "userId": "04192528405390917138"
     },
     "user_tz": -60
    },
    "id": "MzX78H9vbfnt"
   },
   "outputs": [],
   "source": [
    "def pose_estimation(img_path, dest_path, indices=None):\n",
    "\n",
    "    if not os.path.exists(dest_path):\n",
    "        os.makedirs(dest_path)\n",
    "\n",
    "    img_files = sorted(os.listdir(img_path))\n",
    "    img_files = [f for f in img_files if f.lower().endswith(('png', 'jpg', 'jpeg'))]\n",
    "\n",
    "    if indices is not None:\n",
    "        img_files = [img_files[i] for i in indices if 0 <= i < len(img_files)]\n",
    "\n",
    "    for img_name in img_files:\n",
    "        img_file = os.path.join(img_path, img_name)\n",
    "        oriImg = cv2.imread(img_file)\n",
    "        if oriImg is None:\n",
    "            print(f\"Error loading {img_file}\")\n",
    "            continue\n",
    "\n",
    "        test_image = cv2.cvtColor(oriImg, cv2.COLOR_BGR2RGB)\n",
    "        candidate, subset = body_estimation(test_image)\n",
    "\n",
    "        thresh = 0.6\n",
    "        if subset[0][4] != -1:\n",
    "          if candidate[int(subset[0][4])][2] < thresh:\n",
    "            subset[0][4] = -1\n",
    "\n",
    "        if subset[0][7] != -1:\n",
    "          if candidate[int(subset[0][7])][2] < thresh:\n",
    "            subset[0][7] = -1\n",
    "\n",
    "        hand_bboxes = get_bounding_boxes(candidate, subset, oriImg)\n",
    "        all_hand_keypoints = []\n",
    "        for bbox in hand_bboxes:\n",
    "            keypoints = process_hand(oriImg, bbox)\n",
    "            all_hand_keypoints.append(keypoints)\n",
    "\n",
    "        output_file = os.path.join(dest_path, f\"{os.path.splitext(img_name)[0]}_keypoints.json\")\n",
    "        convert_to_json(candidate, subset, all_hand_keypoints, output_file)\n",
    "        print(f\"Saved: {output_file}\")"
   ]
  },
  {
   "cell_type": "code",
   "execution_count": 19,
   "metadata": {
    "colab": {
     "base_uri": "https://localhost:8080/"
    },
    "executionInfo": {
     "elapsed": 3709,
     "status": "ok",
     "timestamp": 1739609121432,
     "user": {
      "displayName": "Giovanni Vitali",
      "userId": "04192528405390917138"
     },
     "user_tz": -60
    },
    "id": "ohJzWIEjbfnt",
    "outputId": "2d2de6a6-9fa0-4498-ca32-24046034c1da"
   },
   "outputs": [
    {
     "name": "stdout",
     "output_type": "stream",
     "text": [
      "Saved: results/openpose_json/00017_00_keypoints.json\n"
     ]
    }
   ],
   "source": [
    "pose_estimation(\"datasets/VITONHD/image\", dest_path, [3])"
   ]
  },
  {
   "cell_type": "code",
   "execution_count": 20,
   "metadata": {
    "executionInfo": {
     "elapsed": 404,
     "status": "ok",
     "timestamp": 1739609132858,
     "user": {
      "displayName": "Giovanni Vitali",
      "userId": "04192528405390917138"
     },
     "user_tz": -60
    },
    "id": "pzNxaSrXbfnt"
   },
   "outputs": [],
   "source": [
    "dest_path_img = \"results/openpose_img\"\n",
    "os.makedirs(dest_path_img, exist_ok=True)"
   ]
  },
  {
   "cell_type": "code",
   "execution_count": 21,
   "metadata": {
    "executionInfo": {
     "elapsed": 1079,
     "status": "ok",
     "timestamp": 1739609137448,
     "user": {
      "displayName": "Giovanni Vitali",
      "userId": "04192528405390917138"
     },
     "user_tz": -60
    },
    "id": "97cInZ2dbfnt"
   },
   "outputs": [],
   "source": [
    "def render_poses(json_path, dest_path):\n",
    "\n",
    "    json_files = [f for f in os.listdir(json_path) if f.endswith('.json')]\n",
    "\n",
    "    for json_name in json_files:\n",
    "        json_path_ = os.path.join(json_path, json_name)\n",
    "        with open(json_path_, \"r\") as f:\n",
    "            data = json.load(f)\n",
    "\n",
    "        img = np.zeros((1024, 768, 3), dtype=np.uint8)  # Black BG\n",
    "        pose_kp, left_hand_kp, right_hand_kp = extract_keypoints(data)\n",
    "\n",
    "        draw_pose_ellipses(img, pose_kp, limbSeq_body25, alpha_keypoints=0.6, alpha_hands=0.6, thickness=-1)\n",
    "\n",
    "        if len(left_hand_kp) > 0:\n",
    "            draw_pose_ellipses(img, left_hand_kp, limbSeq_hand, is_hand=True, alpha_keypoints=0.6, alpha_hands=0.4, thickness=-1)\n",
    "        if len(right_hand_kp) > 0:\n",
    "            draw_pose_ellipses(img, right_hand_kp, limbSeq_hand, is_hand=True, alpha_keypoints=0.6, alpha_hands=0.4, thickness=-1)\n",
    "\n",
    "        output_img_path = os.path.join(dest_path, f\"{os.path.splitext(json_name)[0].replace('_keypoints', '')}_rendered.png\")\n",
    "        cv2.imwrite(output_img_path, img)\n",
    "        print(f\"Salvato: {output_img_path}\")"
   ]
  },
  {
   "cell_type": "code",
   "execution_count": 22,
   "metadata": {
    "colab": {
     "base_uri": "https://localhost:8080/"
    },
    "executionInfo": {
     "elapsed": 1068,
     "status": "ok",
     "timestamp": 1739609139486,
     "user": {
      "displayName": "Giovanni Vitali",
      "userId": "04192528405390917138"
     },
     "user_tz": -60
    },
    "id": "XvsSNgxvbfnt",
    "outputId": "9f29b9a1-8fc5-4f75-86f4-8f7ace073e5b"
   },
   "outputs": [
    {
     "name": "stdout",
     "output_type": "stream",
     "text": [
      "Salvato: results/openpose_img/00017_00_rendered.png\n"
     ]
    }
   ],
   "source": [
    "render_poses(\"results/openpose_json\", dest_path_img)"
   ]
  },
  {
   "cell_type": "markdown",
   "metadata": {
    "id": "i1fj2tnebfnt"
   },
   "source": [
    "## Metrics\n",
    "To evaluate the model’s performance, we compute several metrics that quantify the quality of pose estimation. <br><br>\n",
    "Key Evaluation Metrics:\n",
    "- **(relative) Percentage of Correct Keypoints (PCK)**: Measures the accuracy of keypoint localization within a given threshold with respect to VITONHD keypoints.\n",
    "- **(relative) Mean Per Joint Position Error (MPJPE)**:  It measures the average distance between the predicted joints of a human skeleton and the \"ground truth\" computed keypoints of VITONHD.\n",
    "- **Structural Similarity Index Measure (SSIM)**.\n",
    "\n",
    "These metrics help assess how well the model generalizes to different poses.\n"
   ]
  },
  {
   "cell_type": "code",
   "execution_count": 23,
   "metadata": {
    "executionInfo": {
     "elapsed": 2,
     "status": "ok",
     "timestamp": 1739609228894,
     "user": {
      "displayName": "Giovanni Vitali",
      "userId": "04192528405390917138"
     },
     "user_tz": -60
    },
    "id": "u4FzVPbNbfnt"
   },
   "outputs": [],
   "source": [
    "def compute_mpjpe(kp1, kp2):\n",
    "    kp1, kp2 = np.array(kp1), np.array(kp2)\n",
    "    return np.mean(np.linalg.norm(kp1 - kp2, axis=1))\n",
    "\n",
    "def compute_pck(kp1, kp2, threshold=0.1):\n",
    "    kp1, kp2 = np.array(kp1), np.array(kp2)\n",
    "    distances = np.linalg.norm(kp1 - kp2, axis=1)\n",
    "    torso_diameter = np.linalg.norm(kp1[1] - kp1[8])\n",
    "    return np.mean(distances < threshold * torso_diameter)\n",
    "\n",
    "def compute_ssi(img1_path, img2_path):\n",
    "    img1 = cv2.imread(img1_path, cv2.IMREAD_GRAYSCALE)\n",
    "    img2 = cv2.imread(img2_path, cv2.IMREAD_GRAYSCALE)\n",
    "    return ssim(img1, img2)"
   ]
  },
  {
   "cell_type": "code",
   "execution_count": 24,
   "metadata": {
    "executionInfo": {
     "elapsed": 432,
     "status": "ok",
     "timestamp": 1739609233859,
     "user": {
      "displayName": "Giovanni Vitali",
      "userId": "04192528405390917138"
     },
     "user_tz": -60
    },
    "id": "5lbnYdlTd1f1"
   },
   "outputs": [],
   "source": [
    "original_json_path = \"datasets/VITONHD/openpose_json\"\n",
    "generated_json_path = \"results/openpose_json\"\n",
    "original_img_path = \"datasets/VITONHD/openpose_img\"\n",
    "generated_img_path = \"results/openpose_img\""
   ]
  },
  {
   "cell_type": "code",
   "execution_count": 25,
   "metadata": {
    "executionInfo": {
     "elapsed": 408,
     "status": "ok",
     "timestamp": 1739609351752,
     "user": {
      "displayName": "Giovanni Vitali",
      "userId": "04192528405390917138"
     },
     "user_tz": -60
    },
    "id": "D7Hax9Fabfnt"
   },
   "outputs": [],
   "source": [
    "def evaluate_pose_metrics(original_json_path, generated_json_path, original_img_path, generated_img_path, indices=[i for i in range(100)]):\n",
    "\n",
    "    json_files = sorted(os.listdir(original_json_path))\n",
    "    img_files = sorted(os.listdir(original_img_path))\n",
    "\n",
    "    if indices is not None:\n",
    "        json_files = [json_files[i] for i in indices if 0 <= i < len(json_files)]\n",
    "        img_files = [img_files[i] for i in indices if 0 <= i < len(img_files)]\n",
    "\n",
    "    mpjpe_scores = []\n",
    "    pck_scores = []\n",
    "    ssi_scores = []\n",
    "\n",
    "    for json_name, img_name in zip(json_files, img_files):\n",
    "        original_json = os.path.join(original_json_path, json_name)\n",
    "        generated_json = os.path.join(generated_json_path, json_name)\n",
    "        original_img = os.path.join(original_img_path, img_name)\n",
    "        generated_img = os.path.join(generated_img_path, img_name)\n",
    "\n",
    "        with open(original_json, \"r\") as f:\n",
    "            original_data = json.load(f)\n",
    "        with open(generated_json, \"r\") as f:\n",
    "            generated_data = json.load(f)\n",
    "\n",
    "        original_kp, _, _ = extract_keypoints(original_data)\n",
    "        generated_kp, _, _ = extract_keypoints(generated_data)\n",
    "\n",
    "        mpjpe_scores.append(compute_mpjpe(original_kp, generated_kp))\n",
    "        pck_scores.append(compute_pck(original_kp, generated_kp))\n",
    "        ssi_scores.append(compute_ssi(original_img, generated_img))\n",
    "\n",
    "    return {\n",
    "        \"MPJPE\": np.mean(mpjpe_scores),\n",
    "        \"PCK\": np.mean(pck_scores),\n",
    "        \"SSI\": np.mean(ssi_scores)\n",
    "    }\n"
   ]
  },
  {
   "cell_type": "code",
   "execution_count": null,
   "metadata": {
    "colab": {
     "base_uri": "https://localhost:8080/"
    },
    "id": "QVPPTRUQ8oso",
    "outputId": "2626c4e7-9b29-4bd5-b16d-b23f9881cb2a"
   },
   "outputs": [
    {
     "data": {
      "text/plain": [
       "{'MPJPE': 37.555420009904005,\n",
       " 'PCK': 0.9455999999999999,\n",
       " 'SSI': 0.933126973148265}"
      ]
     },
     "execution_count": 151,
     "metadata": {},
     "output_type": "execute_result"
    }
   ],
   "source": [
    "evaluate_pose_metrics(original_json_path, generated_json_path, original_img_path, generated_img_path)"
   ]
  }
 ],
 "metadata": {
  "accelerator": "GPU",
  "colab": {
   "gpuType": "T4",
   "provenance": []
  },
  "kernelspec": {
   "display_name": "Python 3",
   "name": "python3"
  },
  "language_info": {
   "name": "python",
   "version": "3.11.9"
  }
 },
 "nbformat": 4,
 "nbformat_minor": 0
}
